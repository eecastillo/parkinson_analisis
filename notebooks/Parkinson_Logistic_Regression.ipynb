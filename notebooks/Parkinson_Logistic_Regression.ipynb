{
  "nbformat": 4,
  "nbformat_minor": 0,
  "metadata": {
    "colab": {
      "name": "Parkinson_Logistic_Regression.ipynb",
      "provenance": [],
      "collapsed_sections": [],
      "include_colab_link": true
    },
    "kernelspec": {
      "name": "python3",
      "display_name": "Python 3"
    },
    "language_info": {
      "name": "python"
    }
  },
  "cells": [
    {
      "cell_type": "markdown",
      "metadata": {
        "id": "view-in-github",
        "colab_type": "text"
      },
      "source": [
        "<a href=\"https://colab.research.google.com/github/eecastillo/parkinson_analisis/blob/master/notebooks/Parkinson_Logistic_Regression.ipynb\" target=\"_parent\"><img src=\"https://colab.research.google.com/assets/colab-badge.svg\" alt=\"Open In Colab\"/></a>"
      ]
    },
    {
      "cell_type": "code",
      "metadata": {
        "id": "G0eM4oLFYDPx"
      },
      "source": [
        "# Tratamiento de datos\n",
        "# ==============================================================================\n",
        "import pandas as pd\n",
        "import numpy as np\n",
        "\n",
        "# Gráficos\n",
        "# ==============================================================================\n",
        "import matplotlib.pyplot as plt\n",
        "from matplotlib import style\n",
        "import seaborn as sns\n",
        "from mlxtend.plotting import plot_decision_regions\n",
        "\n",
        "# Preprocesado y modelado\n",
        "# ==============================================================================\n",
        "from sklearn.svm import SVC\n",
        "from sklearn.model_selection import train_test_split\n",
        "from sklearn.model_selection import GridSearchCV\n",
        "from sklearn.metrics import accuracy_score\n",
        "\n",
        "# Configuración matplotlib\n",
        "# ==============================================================================\n",
        "plt.rcParams['image.cmap'] = \"bwr\"\n",
        "#plt.rcParams['figure.dpi'] = \"100\"\n",
        "plt.rcParams['savefig.bbox'] = \"tight\"\n",
        "style.use('ggplot') or plt.style.use('ggplot')\n",
        "\n",
        "# Configuración warnings\n",
        "# ==============================================================================\n",
        "import warnings\n",
        "warnings.filterwarnings('ignore')"
      ],
      "execution_count": null,
      "outputs": []
    },
    {
      "cell_type": "code",
      "metadata": {
        "colab": {
          "base_uri": "https://localhost:8080/",
          "height": 224
        },
        "id": "sv5F-WT0YFM_",
        "outputId": "59ceeabb-0dc2-459c-95c3-52ff75496898"
      },
      "source": [
        "df = pd.read_csv('./parkinson_dataset.csv')\n",
        "df.head()"
      ],
      "execution_count": null,
      "outputs": [
        {
          "output_type": "execute_result",
          "data": {
            "text/html": [
              "<div>\n",
              "<style scoped>\n",
              "    .dataframe tbody tr th:only-of-type {\n",
              "        vertical-align: middle;\n",
              "    }\n",
              "\n",
              "    .dataframe tbody tr th {\n",
              "        vertical-align: top;\n",
              "    }\n",
              "\n",
              "    .dataframe thead th {\n",
              "        text-align: right;\n",
              "    }\n",
              "</style>\n",
              "<table border=\"1\" class=\"dataframe\">\n",
              "  <thead>\n",
              "    <tr style=\"text-align: right;\">\n",
              "      <th></th>\n",
              "      <th>ID</th>\n",
              "      <th>jitter_local</th>\n",
              "      <th>jitter_local_absolute</th>\n",
              "      <th>jitter_rap</th>\n",
              "      <th>jitter_ppq5</th>\n",
              "      <th>jitter_ddp</th>\n",
              "      <th>shimmer_local</th>\n",
              "      <th>shimer_local_db</th>\n",
              "      <th>shimmer_apq3</th>\n",
              "      <th>shimmer_apq5</th>\n",
              "      <th>shimmer_apq11</th>\n",
              "      <th>shimer_dda</th>\n",
              "      <th>ac</th>\n",
              "      <th>nth</th>\n",
              "      <th>htn</th>\n",
              "      <th>median_pitch</th>\n",
              "      <th>mean_pitch</th>\n",
              "      <th>standard_deviation</th>\n",
              "      <th>minimum_pitch</th>\n",
              "      <th>maximum_pitch</th>\n",
              "      <th>number_pulses</th>\n",
              "      <th>periods</th>\n",
              "      <th>mean_period</th>\n",
              "      <th>std_period</th>\n",
              "      <th>locally_unvoiced_frames</th>\n",
              "      <th>voice_breaks</th>\n",
              "      <th>degree_voice_break</th>\n",
              "      <th>class_information</th>\n",
              "    </tr>\n",
              "  </thead>\n",
              "  <tbody>\n",
              "    <tr>\n",
              "      <th>0</th>\n",
              "      <td>1</td>\n",
              "      <td>0.135</td>\n",
              "      <td>0.000007</td>\n",
              "      <td>0.067</td>\n",
              "      <td>0.078</td>\n",
              "      <td>0.202</td>\n",
              "      <td>2.033</td>\n",
              "      <td>0.178</td>\n",
              "      <td>1.074</td>\n",
              "      <td>1.336</td>\n",
              "      <td>1.576</td>\n",
              "      <td>3.223</td>\n",
              "      <td>0.996050</td>\n",
              "      <td>0.003967</td>\n",
              "      <td>24.204</td>\n",
              "      <td>186.266</td>\n",
              "      <td>186.300</td>\n",
              "      <td>0.859</td>\n",
              "      <td>184.502</td>\n",
              "      <td>187.880</td>\n",
              "      <td>183</td>\n",
              "      <td>182</td>\n",
              "      <td>0.005368</td>\n",
              "      <td>0.000025</td>\n",
              "      <td>0.0</td>\n",
              "      <td>0</td>\n",
              "      <td>0.0</td>\n",
              "      <td>1</td>\n",
              "    </tr>\n",
              "    <tr>\n",
              "      <th>1</th>\n",
              "      <td>1</td>\n",
              "      <td>0.143</td>\n",
              "      <td>0.000007</td>\n",
              "      <td>0.073</td>\n",
              "      <td>0.081</td>\n",
              "      <td>0.219</td>\n",
              "      <td>1.236</td>\n",
              "      <td>0.107</td>\n",
              "      <td>0.612</td>\n",
              "      <td>0.904</td>\n",
              "      <td>0.894</td>\n",
              "      <td>1.835</td>\n",
              "      <td>0.998471</td>\n",
              "      <td>0.001531</td>\n",
              "      <td>28.729</td>\n",
              "      <td>200.577</td>\n",
              "      <td>200.477</td>\n",
              "      <td>0.755</td>\n",
              "      <td>198.665</td>\n",
              "      <td>202.214</td>\n",
              "      <td>194</td>\n",
              "      <td>193</td>\n",
              "      <td>0.004988</td>\n",
              "      <td>0.000020</td>\n",
              "      <td>0.0</td>\n",
              "      <td>0</td>\n",
              "      <td>0.0</td>\n",
              "      <td>1</td>\n",
              "    </tr>\n",
              "    <tr>\n",
              "      <th>2</th>\n",
              "      <td>1</td>\n",
              "      <td>0.162</td>\n",
              "      <td>0.000008</td>\n",
              "      <td>0.087</td>\n",
              "      <td>0.089</td>\n",
              "      <td>0.260</td>\n",
              "      <td>1.338</td>\n",
              "      <td>0.117</td>\n",
              "      <td>0.630</td>\n",
              "      <td>0.948</td>\n",
              "      <td>1.017</td>\n",
              "      <td>1.891</td>\n",
              "      <td>0.998021</td>\n",
              "      <td>0.001984</td>\n",
              "      <td>27.349</td>\n",
              "      <td>202.868</td>\n",
              "      <td>202.425</td>\n",
              "      <td>1.860</td>\n",
              "      <td>197.220</td>\n",
              "      <td>206.060</td>\n",
              "      <td>198</td>\n",
              "      <td>197</td>\n",
              "      <td>0.004940</td>\n",
              "      <td>0.000046</td>\n",
              "      <td>0.0</td>\n",
              "      <td>0</td>\n",
              "      <td>0.0</td>\n",
              "      <td>1</td>\n",
              "    </tr>\n",
              "    <tr>\n",
              "      <th>3</th>\n",
              "      <td>1</td>\n",
              "      <td>0.140</td>\n",
              "      <td>0.000007</td>\n",
              "      <td>0.075</td>\n",
              "      <td>0.089</td>\n",
              "      <td>0.224</td>\n",
              "      <td>1.086</td>\n",
              "      <td>0.094</td>\n",
              "      <td>0.556</td>\n",
              "      <td>0.747</td>\n",
              "      <td>0.823</td>\n",
              "      <td>1.667</td>\n",
              "      <td>0.999154</td>\n",
              "      <td>0.000847</td>\n",
              "      <td>32.114</td>\n",
              "      <td>204.027</td>\n",
              "      <td>204.090</td>\n",
              "      <td>0.931</td>\n",
              "      <td>202.324</td>\n",
              "      <td>206.182</td>\n",
              "      <td>200</td>\n",
              "      <td>199</td>\n",
              "      <td>0.004900</td>\n",
              "      <td>0.000023</td>\n",
              "      <td>0.0</td>\n",
              "      <td>0</td>\n",
              "      <td>0.0</td>\n",
              "      <td>1</td>\n",
              "    </tr>\n",
              "    <tr>\n",
              "      <th>4</th>\n",
              "      <td>1</td>\n",
              "      <td>0.150</td>\n",
              "      <td>0.000007</td>\n",
              "      <td>0.080</td>\n",
              "      <td>0.097</td>\n",
              "      <td>0.240</td>\n",
              "      <td>1.049</td>\n",
              "      <td>0.091</td>\n",
              "      <td>0.533</td>\n",
              "      <td>0.698</td>\n",
              "      <td>0.777</td>\n",
              "      <td>1.599</td>\n",
              "      <td>0.999295</td>\n",
              "      <td>0.000706</td>\n",
              "      <td>32.816</td>\n",
              "      <td>207.519</td>\n",
              "      <td>207.468</td>\n",
              "      <td>0.880</td>\n",
              "      <td>205.407</td>\n",
              "      <td>209.927</td>\n",
              "      <td>204</td>\n",
              "      <td>203</td>\n",
              "      <td>0.004820</td>\n",
              "      <td>0.000022</td>\n",
              "      <td>0.0</td>\n",
              "      <td>0</td>\n",
              "      <td>0.0</td>\n",
              "      <td>1</td>\n",
              "    </tr>\n",
              "  </tbody>\n",
              "</table>\n",
              "</div>"
            ],
            "text/plain": [
              "   ID  jitter_local  ...  degree_voice_break  class_information\n",
              "0   1         0.135  ...                 0.0                  1\n",
              "1   1         0.143  ...                 0.0                  1\n",
              "2   1         0.162  ...                 0.0                  1\n",
              "3   1         0.140  ...                 0.0                  1\n",
              "4   1         0.150  ...                 0.0                  1\n",
              "\n",
              "[5 rows x 28 columns]"
            ]
          },
          "metadata": {},
          "execution_count": 5
        }
      ]
    },
    {
      "cell_type": "code",
      "metadata": {
        "id": "UVzRpyQmZhu4"
      },
      "source": [
        "#Separar el dataframe en variables dependientes e independientes\n",
        "X = df.drop(columns=['class_information','ID'])\n",
        "y = df['class_information']"
      ],
      "execution_count": null,
      "outputs": []
    },
    {
      "cell_type": "code",
      "metadata": {
        "colab": {
          "base_uri": "https://localhost:8080/",
          "height": 224
        },
        "id": "IkxBGVUm7cSJ",
        "outputId": "2cb1517d-f9db-4f7e-e19b-9f42ecd193f1"
      },
      "source": [
        "X.head()"
      ],
      "execution_count": null,
      "outputs": [
        {
          "output_type": "execute_result",
          "data": {
            "text/html": [
              "<div>\n",
              "<style scoped>\n",
              "    .dataframe tbody tr th:only-of-type {\n",
              "        vertical-align: middle;\n",
              "    }\n",
              "\n",
              "    .dataframe tbody tr th {\n",
              "        vertical-align: top;\n",
              "    }\n",
              "\n",
              "    .dataframe thead th {\n",
              "        text-align: right;\n",
              "    }\n",
              "</style>\n",
              "<table border=\"1\" class=\"dataframe\">\n",
              "  <thead>\n",
              "    <tr style=\"text-align: right;\">\n",
              "      <th></th>\n",
              "      <th>jitter_local</th>\n",
              "      <th>jitter_local_absolute</th>\n",
              "      <th>jitter_rap</th>\n",
              "      <th>jitter_ppq5</th>\n",
              "      <th>jitter_ddp</th>\n",
              "      <th>shimmer_local</th>\n",
              "      <th>shimer_local_db</th>\n",
              "      <th>shimmer_apq3</th>\n",
              "      <th>shimmer_apq5</th>\n",
              "      <th>shimmer_apq11</th>\n",
              "      <th>shimer_dda</th>\n",
              "      <th>ac</th>\n",
              "      <th>nth</th>\n",
              "      <th>htn</th>\n",
              "      <th>median_pitch</th>\n",
              "      <th>mean_pitch</th>\n",
              "      <th>standard_deviation</th>\n",
              "      <th>minimum_pitch</th>\n",
              "      <th>maximum_pitch</th>\n",
              "      <th>number_pulses</th>\n",
              "      <th>periods</th>\n",
              "      <th>mean_period</th>\n",
              "      <th>std_period</th>\n",
              "      <th>locally_unvoiced_frames</th>\n",
              "      <th>voice_breaks</th>\n",
              "      <th>degree_voice_break</th>\n",
              "    </tr>\n",
              "  </thead>\n",
              "  <tbody>\n",
              "    <tr>\n",
              "      <th>0</th>\n",
              "      <td>0.135</td>\n",
              "      <td>0.000007</td>\n",
              "      <td>0.067</td>\n",
              "      <td>0.078</td>\n",
              "      <td>0.202</td>\n",
              "      <td>2.033</td>\n",
              "      <td>0.178</td>\n",
              "      <td>1.074</td>\n",
              "      <td>1.336</td>\n",
              "      <td>1.576</td>\n",
              "      <td>3.223</td>\n",
              "      <td>0.996050</td>\n",
              "      <td>0.003967</td>\n",
              "      <td>24.204</td>\n",
              "      <td>186.266</td>\n",
              "      <td>186.300</td>\n",
              "      <td>0.859</td>\n",
              "      <td>184.502</td>\n",
              "      <td>187.880</td>\n",
              "      <td>183</td>\n",
              "      <td>182</td>\n",
              "      <td>0.005368</td>\n",
              "      <td>0.000025</td>\n",
              "      <td>0.0</td>\n",
              "      <td>0</td>\n",
              "      <td>0.0</td>\n",
              "    </tr>\n",
              "    <tr>\n",
              "      <th>1</th>\n",
              "      <td>0.143</td>\n",
              "      <td>0.000007</td>\n",
              "      <td>0.073</td>\n",
              "      <td>0.081</td>\n",
              "      <td>0.219</td>\n",
              "      <td>1.236</td>\n",
              "      <td>0.107</td>\n",
              "      <td>0.612</td>\n",
              "      <td>0.904</td>\n",
              "      <td>0.894</td>\n",
              "      <td>1.835</td>\n",
              "      <td>0.998471</td>\n",
              "      <td>0.001531</td>\n",
              "      <td>28.729</td>\n",
              "      <td>200.577</td>\n",
              "      <td>200.477</td>\n",
              "      <td>0.755</td>\n",
              "      <td>198.665</td>\n",
              "      <td>202.214</td>\n",
              "      <td>194</td>\n",
              "      <td>193</td>\n",
              "      <td>0.004988</td>\n",
              "      <td>0.000020</td>\n",
              "      <td>0.0</td>\n",
              "      <td>0</td>\n",
              "      <td>0.0</td>\n",
              "    </tr>\n",
              "    <tr>\n",
              "      <th>2</th>\n",
              "      <td>0.162</td>\n",
              "      <td>0.000008</td>\n",
              "      <td>0.087</td>\n",
              "      <td>0.089</td>\n",
              "      <td>0.260</td>\n",
              "      <td>1.338</td>\n",
              "      <td>0.117</td>\n",
              "      <td>0.630</td>\n",
              "      <td>0.948</td>\n",
              "      <td>1.017</td>\n",
              "      <td>1.891</td>\n",
              "      <td>0.998021</td>\n",
              "      <td>0.001984</td>\n",
              "      <td>27.349</td>\n",
              "      <td>202.868</td>\n",
              "      <td>202.425</td>\n",
              "      <td>1.860</td>\n",
              "      <td>197.220</td>\n",
              "      <td>206.060</td>\n",
              "      <td>198</td>\n",
              "      <td>197</td>\n",
              "      <td>0.004940</td>\n",
              "      <td>0.000046</td>\n",
              "      <td>0.0</td>\n",
              "      <td>0</td>\n",
              "      <td>0.0</td>\n",
              "    </tr>\n",
              "    <tr>\n",
              "      <th>3</th>\n",
              "      <td>0.140</td>\n",
              "      <td>0.000007</td>\n",
              "      <td>0.075</td>\n",
              "      <td>0.089</td>\n",
              "      <td>0.224</td>\n",
              "      <td>1.086</td>\n",
              "      <td>0.094</td>\n",
              "      <td>0.556</td>\n",
              "      <td>0.747</td>\n",
              "      <td>0.823</td>\n",
              "      <td>1.667</td>\n",
              "      <td>0.999154</td>\n",
              "      <td>0.000847</td>\n",
              "      <td>32.114</td>\n",
              "      <td>204.027</td>\n",
              "      <td>204.090</td>\n",
              "      <td>0.931</td>\n",
              "      <td>202.324</td>\n",
              "      <td>206.182</td>\n",
              "      <td>200</td>\n",
              "      <td>199</td>\n",
              "      <td>0.004900</td>\n",
              "      <td>0.000023</td>\n",
              "      <td>0.0</td>\n",
              "      <td>0</td>\n",
              "      <td>0.0</td>\n",
              "    </tr>\n",
              "    <tr>\n",
              "      <th>4</th>\n",
              "      <td>0.150</td>\n",
              "      <td>0.000007</td>\n",
              "      <td>0.080</td>\n",
              "      <td>0.097</td>\n",
              "      <td>0.240</td>\n",
              "      <td>1.049</td>\n",
              "      <td>0.091</td>\n",
              "      <td>0.533</td>\n",
              "      <td>0.698</td>\n",
              "      <td>0.777</td>\n",
              "      <td>1.599</td>\n",
              "      <td>0.999295</td>\n",
              "      <td>0.000706</td>\n",
              "      <td>32.816</td>\n",
              "      <td>207.519</td>\n",
              "      <td>207.468</td>\n",
              "      <td>0.880</td>\n",
              "      <td>205.407</td>\n",
              "      <td>209.927</td>\n",
              "      <td>204</td>\n",
              "      <td>203</td>\n",
              "      <td>0.004820</td>\n",
              "      <td>0.000022</td>\n",
              "      <td>0.0</td>\n",
              "      <td>0</td>\n",
              "      <td>0.0</td>\n",
              "    </tr>\n",
              "  </tbody>\n",
              "</table>\n",
              "</div>"
            ],
            "text/plain": [
              "   jitter_local  jitter_local_absolute  ...  voice_breaks  degree_voice_break\n",
              "0         0.135               0.000007  ...             0                 0.0\n",
              "1         0.143               0.000007  ...             0                 0.0\n",
              "2         0.162               0.000008  ...             0                 0.0\n",
              "3         0.140               0.000007  ...             0                 0.0\n",
              "4         0.150               0.000007  ...             0                 0.0\n",
              "\n",
              "[5 rows x 26 columns]"
            ]
          },
          "metadata": {},
          "execution_count": 7
        }
      ]
    },
    {
      "cell_type": "code",
      "metadata": {
        "colab": {
          "base_uri": "https://localhost:8080/"
        },
        "id": "U0bXdHCw7iXL",
        "outputId": "9e494649-7c89-4ca1-f853-6f20ae31a09c"
      },
      "source": [
        "y.head()"
      ],
      "execution_count": null,
      "outputs": [
        {
          "output_type": "execute_result",
          "data": {
            "text/plain": [
              "0    1\n",
              "1    1\n",
              "2    1\n",
              "3    1\n",
              "4    1\n",
              "Name: class_information, dtype: int64"
            ]
          },
          "metadata": {},
          "execution_count": 8
        }
      ]
    },
    {
      "cell_type": "code",
      "metadata": {
        "id": "l8vV0V9waaKV"
      },
      "source": [
        "from sklearn.linear_model import LogisticRegression\n",
        "from sklearn.model_selection import train_test_split"
      ],
      "execution_count": null,
      "outputs": []
    },
    {
      "cell_type": "code",
      "metadata": {
        "id": "P5MG8vElab5r"
      },
      "source": [
        "X_train, X_test, y_train, y_test = train_test_split(X, y, test_size=0.3)"
      ],
      "execution_count": null,
      "outputs": []
    },
    {
      "cell_type": "code",
      "metadata": {
        "id": "DSWUb9xxahP2"
      },
      "source": [
        "logreg = LogisticRegression(max_iter=10000)"
      ],
      "execution_count": null,
      "outputs": []
    },
    {
      "cell_type": "code",
      "metadata": {
        "colab": {
          "base_uri": "https://localhost:8080/"
        },
        "id": "1NxCU2P8ai6f",
        "outputId": "7ba77b58-3825-4ecf-b183-50dc85d484c3"
      },
      "source": [
        "logreg.fit(X_train, y_train)"
      ],
      "execution_count": null,
      "outputs": [
        {
          "output_type": "execute_result",
          "data": {
            "text/plain": [
              "LogisticRegression(C=1.0, class_weight=None, dual=False, fit_intercept=True,\n",
              "                   intercept_scaling=1, l1_ratio=None, max_iter=10000,\n",
              "                   multi_class='auto', n_jobs=None, penalty='l2',\n",
              "                   random_state=None, solver='lbfgs', tol=0.0001, verbose=0,\n",
              "                   warm_start=False)"
            ]
          },
          "metadata": {},
          "execution_count": 15
        }
      ]
    },
    {
      "cell_type": "code",
      "metadata": {
        "colab": {
          "base_uri": "https://localhost:8080/"
        },
        "id": "F8SVDwzSam1i",
        "outputId": "656a244b-505c-4c94-aa2b-c6faa5f62c97"
      },
      "source": [
        "y_pred = logreg.predict(X_test)\n",
        "\n",
        "y_pred"
      ],
      "execution_count": null,
      "outputs": [
        {
          "output_type": "execute_result",
          "data": {
            "text/plain": [
              "array([1, 1, 1, 1, 1, 0, 1, 1, 1, 0, 1, 1, 1, 1, 1, 0, 1, 1, 0, 1, 1, 1,\n",
              "       1, 0, 1, 1, 1, 1, 1, 1, 1, 0, 0, 0, 0, 0, 1, 1, 1, 1, 1, 1, 0, 1,\n",
              "       1, 1, 0, 1, 0, 1, 1, 1, 0, 1, 1, 0, 1, 1, 1, 1, 0, 0, 1, 0, 0, 1,\n",
              "       1, 1, 0, 1, 1, 1, 1, 1, 0, 0, 1, 0, 1, 0, 1, 0, 1, 1, 1, 1, 1, 0,\n",
              "       1, 0, 1, 0, 1, 1, 0, 0, 1, 0, 1, 1, 1, 1, 1, 1, 1, 1, 0, 1, 0, 1,\n",
              "       0, 0, 1, 0, 1, 0, 0, 0, 1, 1, 1, 1, 1, 0, 0, 0, 1, 1, 1, 1, 1, 1,\n",
              "       1, 1, 0, 0, 1, 1, 1, 1, 1, 1, 1, 1, 0, 0, 0, 1, 0, 0, 1, 1, 1, 1,\n",
              "       0, 1, 1, 0, 1, 1, 0, 1, 1, 1, 1, 0, 1, 1, 1, 0, 0, 0, 0, 1, 1, 1,\n",
              "       1, 1, 1, 0, 1, 0, 1, 1, 0, 1, 1, 0, 1, 1, 1, 0, 1, 1, 0, 0, 1, 1,\n",
              "       1, 1, 1, 1, 1, 1, 0, 1, 1, 1, 0, 1, 1, 1, 1, 1, 1, 1, 1, 1, 1, 0,\n",
              "       1, 1, 1, 1, 1, 1, 1, 1, 1, 0, 0, 1, 1, 1, 0, 0, 0, 0, 0, 1, 1, 1,\n",
              "       1, 1, 1, 1, 1, 0, 0, 1, 0, 1, 1, 0, 1, 1, 0, 1, 1, 1, 0, 1, 0, 1,\n",
              "       1, 0, 1, 1, 1, 1, 0, 1, 1, 1, 0, 1, 0, 1, 1, 0, 0, 1, 0, 1, 1, 1,\n",
              "       1, 1, 1, 1, 0, 1, 1, 0, 1, 1, 1, 1, 0, 1, 1, 0, 1, 0, 1, 1, 1, 1,\n",
              "       1, 1, 1, 1, 1, 1, 1, 1, 1, 0, 1, 1, 1, 0, 0, 1, 1, 1, 1, 0, 1, 1,\n",
              "       1, 1, 1, 1, 1, 0, 1, 1, 1, 1, 1, 0, 1, 1, 0, 1, 0, 1, 1, 0, 0, 1,\n",
              "       1, 1, 0, 1, 0, 1, 0, 0, 1, 1, 0])"
            ]
          },
          "metadata": {},
          "execution_count": 16
        }
      ]
    },
    {
      "cell_type": "code",
      "metadata": {
        "colab": {
          "base_uri": "https://localhost:8080/"
        },
        "id": "_wfFNQUEaoz3",
        "outputId": "66067ebe-0ecd-40c0-af23-91e48df412b6"
      },
      "source": [
        "logreg.score(X_test, y_test)"
      ],
      "execution_count": null,
      "outputs": [
        {
          "output_type": "execute_result",
          "data": {
            "text/plain": [
              "0.6391184573002755"
            ]
          },
          "metadata": {},
          "execution_count": 14
        }
      ]
    },
    {
      "cell_type": "code",
      "metadata": {
        "id": "-tBMzSS1bK7C"
      },
      "source": [
        "from sklearn import metrics"
      ],
      "execution_count": null,
      "outputs": []
    },
    {
      "cell_type": "code",
      "metadata": {
        "colab": {
          "base_uri": "https://localhost:8080/"
        },
        "id": "WF6NR7x9bMqS",
        "outputId": "eac2294a-c423-432c-bd8d-2b7b2a8c77a1"
      },
      "source": [
        "cnf_matrix = metrics.confusion_matrix(y_test, y_pred)\n",
        "\n",
        "cnf_matrix"
      ],
      "execution_count": null,
      "outputs": [
        {
          "output_type": "execute_result",
          "data": {
            "text/plain": [
              "array([[ 78,  95],\n",
              "       [ 31, 159]])"
            ]
          },
          "metadata": {},
          "execution_count": 13
        }
      ]
    },
    {
      "cell_type": "code",
      "metadata": {
        "colab": {
          "base_uri": "https://localhost:8080/",
          "height": 457
        },
        "id": "WLH33IE0bRJD",
        "outputId": "9cad01fe-dbe8-426c-f5ee-47ea0d2090d1"
      },
      "source": [
        "class_names=[0,1] # name  of classes\n",
        "fig, ax = plt.subplots(figsize=(6, 6))\n",
        "tick_marks = np.arange(len(class_names))\n",
        "plt.xticks(tick_marks, class_names)\n",
        "plt.yticks(tick_marks, class_names)\n",
        "# create heatmap\n",
        "sns.heatmap(pd.DataFrame(cnf_matrix), annot=True, cmap=\"Blues\" ,fmt='g', cbar=False, annot_kws={\"size\": 20})\n",
        "ax.xaxis.set_label_position(\"top\")\n",
        "plt.tight_layout()\n",
        "plt.ylabel('Realidad', fontsize=15, y=0.5)\n",
        "plt.xlabel('Estimado por el modelo', fontsize=15);"
      ],
      "execution_count": null,
      "outputs": [
        {
          "output_type": "display_data",
          "data": {
            "image/png": "[encoded data removed]",
            "text/plain": [
              "<Figure size 432x432 with 1 Axes>"
            ]
          },
          "metadata": {
            "needs_background": "light"
          }
        }
      ]
    },
    {
      "cell_type": "code",
      "metadata": {
        "colab": {
          "base_uri": "https://localhost:8080/"
        },
        "id": "g4v5uLu_bbPt",
        "outputId": "385044b7-0eda-4247-a274-2c23f5a3a6b0"
      },
      "source": [
        "y_pred_proba = logreg.predict_proba(X_test)\n",
        "\n",
        "y_pred_proba[:10,:]"
      ],
      "execution_count": null,
      "outputs": [
        {
          "output_type": "execute_result",
          "data": {
            "text/plain": [
              "array([[0.67819929, 0.32180071],\n",
              "       [0.24375842, 0.75624158],\n",
              "       [0.50809401, 0.49190599],\n",
              "       [0.54606582, 0.45393418],\n",
              "       [0.8478914 , 0.1521086 ],\n",
              "       [0.35885427, 0.64114573],\n",
              "       [0.77751748, 0.22248252],\n",
              "       [0.69299217, 0.30700783],\n",
              "       [0.3891974 , 0.6108026 ],\n",
              "       [0.46893331, 0.53106669]])"
            ]
          },
          "metadata": {},
          "execution_count": 15
        }
      ]
    },
    {
      "cell_type": "code",
      "metadata": {
        "id": "S423uf3-biFn"
      },
      "source": [
        "from sklearn import metrics\n",
        "from sklearn.metrics import roc_curve, auc"
      ],
      "execution_count": null,
      "outputs": []
    },
    {
      "cell_type": "code",
      "metadata": {
        "colab": {
          "base_uri": "https://localhost:8080/",
          "height": 163
        },
        "id": "qlc7hv__Hpvb",
        "outputId": "71305370-0493-4dcc-8356-b9655685f3fd"
      },
      "source": [
        ""
      ],
      "execution_count": null,
      "outputs": [
        {
          "output_type": "error",
          "ename": "NameError",
          "evalue": "ignored",
          "traceback": [
            "\u001b[0;31m---------------------------------------------------------------------------\u001b[0m",
            "\u001b[0;31mNameError\u001b[0m                                 Traceback (most recent call last)",
            "\u001b[0;32m<ipython-input-3-ac1dbb3ecb0b>\u001b[0m in \u001b[0;36m<module>\u001b[0;34m()\u001b[0m\n\u001b[0;32m----> 1\u001b[0;31m \u001b[0mcnf_matrix\u001b[0m\u001b[0;34m[\u001b[0m\u001b[0;36m0\u001b[0m\u001b[0;34m,\u001b[0m\u001b[0;36m0\u001b[0m\u001b[0;34m]\u001b[0m\u001b[0;34m\u001b[0m\u001b[0;34m\u001b[0m\u001b[0m\n\u001b[0m",
            "\u001b[0;31mNameError\u001b[0m: name 'cnf_matrix' is not defined"
          ]
        }
      ]
    },
    {
      "cell_type": "code",
      "metadata": {
        "colab": {
          "base_uri": "https://localhost:8080/"
        },
        "id": "wPIAn79RFhZO",
        "outputId": "08b2cb0a-a20f-4746-ed32-bedf8f685bfd"
      },
      "source": [
        "# Model Precision: what percentage of positive tuples are labeled as such?\n",
        "print(\"Precision:\",(159 / (159 + 95)))\n",
        "\n",
        "# Model Recall: what percentage of positive tuples are labelled as such?\n",
        "print(\"Recall:\",(159 / (159 + 31)))"
      ],
      "execution_count": null,
      "outputs": [
        {
          "output_type": "stream",
          "name": "stdout",
          "text": [
            "Precision: 0.6259842519685039\n",
            "Recall: 0.8368421052631579\n"
          ]
        }
      ]
    },
    {
      "cell_type": "code",
      "metadata": {
        "id": "pbZrZHbcbjic"
      },
      "source": [
        "fpr, tpr, _ = roc_curve(y_test, y_pred_proba[:, 1])\n",
        "roc_auc = auc(fpr, tpr)"
      ],
      "execution_count": null,
      "outputs": []
    },
    {
      "cell_type": "code",
      "metadata": {
        "colab": {
          "base_uri": "https://localhost:8080/",
          "height": 299
        },
        "id": "3Y7EEr08blFj",
        "outputId": "d3e80a07-42db-41ec-9599-c528eda163b4"
      },
      "source": [
        "plt.figure()\n",
        "plt.plot(fpr, tpr, color='darkorange',\n",
        "         label='ROC curve (area = %0.2f)' % roc_auc)\n",
        "plt.plot([0, 1], [0, 1], color='navy', linestyle='--')\n",
        "plt.xlim([0.0, 1.0])\n",
        "plt.ylim([0.0, 1.05])\n",
        "plt.xlabel('Proporción Positivos False')\n",
        "plt.ylabel('Proporción Positivos Verdaderos')\n",
        "plt.title('Curva ROC / AUC')\n",
        "plt.legend(loc=\"lower right\")\n",
        "plt.show()"
      ],
      "execution_count": null,
      "outputs": [
        {
          "output_type": "display_data",
          "data": {
            "image/png": "[encoded data removed]",
            "text/plain": [
              "<Figure size 432x288 with 1 Axes>"
            ]
          },
          "metadata": {
            "needs_background": "light"
          }
        }
      ]
    }
  ]
}