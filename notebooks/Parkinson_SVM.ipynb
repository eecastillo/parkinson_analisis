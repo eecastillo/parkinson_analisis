{
  "nbformat": 4,
  "nbformat_minor": 0,
  "metadata": {
    "colab": {
      "name": "Parkinson_SVM.ipynb",
      "provenance": [],
      "collapsed_sections": [
        "wPH8N9UfaiXI"
      ],
      "authorship_tag": "ABX9TyNDxJEPEZfsNGQbXoRz5IiC",
      "include_colab_link": true
    },
    "kernelspec": {
      "name": "python3",
      "display_name": "Python 3"
    },
    "language_info": {
      "name": "python"
    }
  },
  "cells": [
    {
      "cell_type": "markdown",
      "metadata": {
        "id": "view-in-github",
        "colab_type": "text"
      },
      "source": [
        "<a href=\"https://colab.research.google.com/github/eecastillo/parkinson_analisis/blob/master/notebooks/Parkinson_SVM.ipynb\" target=\"_parent\"><img src=\"https://colab.research.google.com/assets/colab-badge.svg\" alt=\"Open In Colab\"/></a>"
      ]
    },
    {
      "cell_type": "code",
      "metadata": {
        "id": "eHuYJ9auVmqx"
      },
      "source": [
        "#Import scikit-learn dataset library\n",
        "from sklearn import datasets\n",
        "import pandas as pd\n",
        "import pickle\n"
      ],
      "execution_count": null,
      "outputs": []
    },
    {
      "cell_type": "code",
      "metadata": {
        "colab": {
          "base_uri": "https://localhost:8080/",
          "height": 379
        },
        "id": "ABIgNDvwVsJJ",
        "outputId": "b6a6e21c-3b58-4231-9018-e0f915165351"
      },
      "source": [
        "df = pd.read_csv('./parkinson_dataset.csv')\n",
        "#df = pd.read_csv('./train_data.csv')\n",
        "df.head(10)"
      ],
      "execution_count": null,
      "outputs": [
        {
          "output_type": "execute_result",
          "data": {
            "text/html": [
              "<div>\n",
              "<style scoped>\n",
              "    .dataframe tbody tr th:only-of-type {\n",
              "        vertical-align: middle;\n",
              "    }\n",
              "\n",
              "    .dataframe tbody tr th {\n",
              "        vertical-align: top;\n",
              "    }\n",
              "\n",
              "    .dataframe thead th {\n",
              "        text-align: right;\n",
              "    }\n",
              "</style>\n",
              "<table border=\"1\" class=\"dataframe\">\n",
              "  <thead>\n",
              "    <tr style=\"text-align: right;\">\n",
              "      <th></th>\n",
              "      <th>ID</th>\n",
              "      <th>jitter_local</th>\n",
              "      <th>jitter_local_absolute</th>\n",
              "      <th>jitter_rap</th>\n",
              "      <th>jitter_ppq5</th>\n",
              "      <th>jitter_ddp</th>\n",
              "      <th>shimmer_local</th>\n",
              "      <th>shimer_local_db</th>\n",
              "      <th>shimmer_apq3</th>\n",
              "      <th>shimmer_apq5</th>\n",
              "      <th>shimmer_apq11</th>\n",
              "      <th>shimer_dda</th>\n",
              "      <th>ac</th>\n",
              "      <th>nth</th>\n",
              "      <th>htn</th>\n",
              "      <th>median_pitch</th>\n",
              "      <th>mean_pitch</th>\n",
              "      <th>standard_deviation</th>\n",
              "      <th>minimum_pitch</th>\n",
              "      <th>maximum_pitch</th>\n",
              "      <th>number_pulses</th>\n",
              "      <th>periods</th>\n",
              "      <th>mean_period</th>\n",
              "      <th>std_period</th>\n",
              "      <th>locally_unvoiced_frames</th>\n",
              "      <th>voice_breaks</th>\n",
              "      <th>degree_voice_break</th>\n",
              "      <th>class_information</th>\n",
              "    </tr>\n",
              "  </thead>\n",
              "  <tbody>\n",
              "    <tr>\n",
              "      <th>0</th>\n",
              "      <td>1</td>\n",
              "      <td>0.135</td>\n",
              "      <td>0.000007</td>\n",
              "      <td>0.067</td>\n",
              "      <td>0.078</td>\n",
              "      <td>0.202</td>\n",
              "      <td>2.033</td>\n",
              "      <td>0.178</td>\n",
              "      <td>1.074</td>\n",
              "      <td>1.336</td>\n",
              "      <td>1.576</td>\n",
              "      <td>3.223</td>\n",
              "      <td>0.996050</td>\n",
              "      <td>0.003967</td>\n",
              "      <td>24.204</td>\n",
              "      <td>186.266</td>\n",
              "      <td>186.300</td>\n",
              "      <td>0.859</td>\n",
              "      <td>184.502</td>\n",
              "      <td>187.880</td>\n",
              "      <td>183</td>\n",
              "      <td>182</td>\n",
              "      <td>0.005368</td>\n",
              "      <td>0.000025</td>\n",
              "      <td>0.0</td>\n",
              "      <td>0</td>\n",
              "      <td>0.0</td>\n",
              "      <td>1</td>\n",
              "    </tr>\n",
              "    <tr>\n",
              "      <th>1</th>\n",
              "      <td>1</td>\n",
              "      <td>0.143</td>\n",
              "      <td>0.000007</td>\n",
              "      <td>0.073</td>\n",
              "      <td>0.081</td>\n",
              "      <td>0.219</td>\n",
              "      <td>1.236</td>\n",
              "      <td>0.107</td>\n",
              "      <td>0.612</td>\n",
              "      <td>0.904</td>\n",
              "      <td>0.894</td>\n",
              "      <td>1.835</td>\n",
              "      <td>0.998471</td>\n",
              "      <td>0.001531</td>\n",
              "      <td>28.729</td>\n",
              "      <td>200.577</td>\n",
              "      <td>200.477</td>\n",
              "      <td>0.755</td>\n",
              "      <td>198.665</td>\n",
              "      <td>202.214</td>\n",
              "      <td>194</td>\n",
              "      <td>193</td>\n",
              "      <td>0.004988</td>\n",
              "      <td>0.000020</td>\n",
              "      <td>0.0</td>\n",
              "      <td>0</td>\n",
              "      <td>0.0</td>\n",
              "      <td>1</td>\n",
              "    </tr>\n",
              "    <tr>\n",
              "      <th>2</th>\n",
              "      <td>1</td>\n",
              "      <td>0.162</td>\n",
              "      <td>0.000008</td>\n",
              "      <td>0.087</td>\n",
              "      <td>0.089</td>\n",
              "      <td>0.260</td>\n",
              "      <td>1.338</td>\n",
              "      <td>0.117</td>\n",
              "      <td>0.630</td>\n",
              "      <td>0.948</td>\n",
              "      <td>1.017</td>\n",
              "      <td>1.891</td>\n",
              "      <td>0.998021</td>\n",
              "      <td>0.001984</td>\n",
              "      <td>27.349</td>\n",
              "      <td>202.868</td>\n",
              "      <td>202.425</td>\n",
              "      <td>1.860</td>\n",
              "      <td>197.220</td>\n",
              "      <td>206.060</td>\n",
              "      <td>198</td>\n",
              "      <td>197</td>\n",
              "      <td>0.004940</td>\n",
              "      <td>0.000046</td>\n",
              "      <td>0.0</td>\n",
              "      <td>0</td>\n",
              "      <td>0.0</td>\n",
              "      <td>1</td>\n",
              "    </tr>\n",
              "    <tr>\n",
              "      <th>3</th>\n",
              "      <td>1</td>\n",
              "      <td>0.140</td>\n",
              "      <td>0.000007</td>\n",
              "      <td>0.075</td>\n",
              "      <td>0.089</td>\n",
              "      <td>0.224</td>\n",
              "      <td>1.086</td>\n",
              "      <td>0.094</td>\n",
              "      <td>0.556</td>\n",
              "      <td>0.747</td>\n",
              "      <td>0.823</td>\n",
              "      <td>1.667</td>\n",
              "      <td>0.999154</td>\n",
              "      <td>0.000847</td>\n",
              "      <td>32.114</td>\n",
              "      <td>204.027</td>\n",
              "      <td>204.090</td>\n",
              "      <td>0.931</td>\n",
              "      <td>202.324</td>\n",
              "      <td>206.182</td>\n",
              "      <td>200</td>\n",
              "      <td>199</td>\n",
              "      <td>0.004900</td>\n",
              "      <td>0.000023</td>\n",
              "      <td>0.0</td>\n",
              "      <td>0</td>\n",
              "      <td>0.0</td>\n",
              "      <td>1</td>\n",
              "    </tr>\n",
              "    <tr>\n",
              "      <th>4</th>\n",
              "      <td>1</td>\n",
              "      <td>0.150</td>\n",
              "      <td>0.000007</td>\n",
              "      <td>0.080</td>\n",
              "      <td>0.097</td>\n",
              "      <td>0.240</td>\n",
              "      <td>1.049</td>\n",
              "      <td>0.091</td>\n",
              "      <td>0.533</td>\n",
              "      <td>0.698</td>\n",
              "      <td>0.777</td>\n",
              "      <td>1.599</td>\n",
              "      <td>0.999295</td>\n",
              "      <td>0.000706</td>\n",
              "      <td>32.816</td>\n",
              "      <td>207.519</td>\n",
              "      <td>207.468</td>\n",
              "      <td>0.880</td>\n",
              "      <td>205.407</td>\n",
              "      <td>209.927</td>\n",
              "      <td>204</td>\n",
              "      <td>203</td>\n",
              "      <td>0.004820</td>\n",
              "      <td>0.000022</td>\n",
              "      <td>0.0</td>\n",
              "      <td>0</td>\n",
              "      <td>0.0</td>\n",
              "      <td>1</td>\n",
              "    </tr>\n",
              "    <tr>\n",
              "      <th>5</th>\n",
              "      <td>1</td>\n",
              "      <td>0.208</td>\n",
              "      <td>0.000009</td>\n",
              "      <td>0.077</td>\n",
              "      <td>0.095</td>\n",
              "      <td>0.230</td>\n",
              "      <td>1.241</td>\n",
              "      <td>0.109</td>\n",
              "      <td>0.487</td>\n",
              "      <td>0.715</td>\n",
              "      <td>1.568</td>\n",
              "      <td>1.461</td>\n",
              "      <td>0.998378</td>\n",
              "      <td>0.001631</td>\n",
              "      <td>30.960</td>\n",
              "      <td>224.812</td>\n",
              "      <td>226.435</td>\n",
              "      <td>6.224</td>\n",
              "      <td>218.455</td>\n",
              "      <td>243.523</td>\n",
              "      <td>221</td>\n",
              "      <td>220</td>\n",
              "      <td>0.004416</td>\n",
              "      <td>0.000120</td>\n",
              "      <td>0.0</td>\n",
              "      <td>0</td>\n",
              "      <td>0.0</td>\n",
              "      <td>1</td>\n",
              "    </tr>\n",
              "    <tr>\n",
              "      <th>6</th>\n",
              "      <td>2</td>\n",
              "      <td>1.137</td>\n",
              "      <td>0.000102</td>\n",
              "      <td>0.643</td>\n",
              "      <td>0.506</td>\n",
              "      <td>1.929</td>\n",
              "      <td>6.993</td>\n",
              "      <td>0.620</td>\n",
              "      <td>3.394</td>\n",
              "      <td>4.156</td>\n",
              "      <td>6.189</td>\n",
              "      <td>10.183</td>\n",
              "      <td>0.933691</td>\n",
              "      <td>0.078360</td>\n",
              "      <td>13.196</td>\n",
              "      <td>111.318</td>\n",
              "      <td>111.054</td>\n",
              "      <td>4.301</td>\n",
              "      <td>97.914</td>\n",
              "      <td>119.037</td>\n",
              "      <td>110</td>\n",
              "      <td>109</td>\n",
              "      <td>0.009014</td>\n",
              "      <td>0.000370</td>\n",
              "      <td>0.0</td>\n",
              "      <td>0</td>\n",
              "      <td>0.0</td>\n",
              "      <td>1</td>\n",
              "    </tr>\n",
              "    <tr>\n",
              "      <th>7</th>\n",
              "      <td>2</td>\n",
              "      <td>0.606</td>\n",
              "      <td>0.000065</td>\n",
              "      <td>0.162</td>\n",
              "      <td>0.269</td>\n",
              "      <td>0.486</td>\n",
              "      <td>5.351</td>\n",
              "      <td>0.481</td>\n",
              "      <td>2.444</td>\n",
              "      <td>3.295</td>\n",
              "      <td>4.568</td>\n",
              "      <td>7.333</td>\n",
              "      <td>0.962727</td>\n",
              "      <td>0.040464</td>\n",
              "      <td>15.913</td>\n",
              "      <td>93.483</td>\n",
              "      <td>92.935</td>\n",
              "      <td>3.659</td>\n",
              "      <td>80.332</td>\n",
              "      <td>98.876</td>\n",
              "      <td>92</td>\n",
              "      <td>91</td>\n",
              "      <td>0.010768</td>\n",
              "      <td>0.000451</td>\n",
              "      <td>0.0</td>\n",
              "      <td>0</td>\n",
              "      <td>0.0</td>\n",
              "      <td>1</td>\n",
              "    </tr>\n",
              "    <tr>\n",
              "      <th>8</th>\n",
              "      <td>2</td>\n",
              "      <td>0.765</td>\n",
              "      <td>0.000081</td>\n",
              "      <td>0.204</td>\n",
              "      <td>0.311</td>\n",
              "      <td>0.611</td>\n",
              "      <td>5.314</td>\n",
              "      <td>0.461</td>\n",
              "      <td>2.492</td>\n",
              "      <td>3.469</td>\n",
              "      <td>5.992</td>\n",
              "      <td>7.477</td>\n",
              "      <td>0.940527</td>\n",
              "      <td>0.065536</td>\n",
              "      <td>12.954</td>\n",
              "      <td>93.239</td>\n",
              "      <td>93.811</td>\n",
              "      <td>3.686</td>\n",
              "      <td>88.629</td>\n",
              "      <td>104.526</td>\n",
              "      <td>93</td>\n",
              "      <td>92</td>\n",
              "      <td>0.010657</td>\n",
              "      <td>0.000411</td>\n",
              "      <td>0.0</td>\n",
              "      <td>0</td>\n",
              "      <td>0.0</td>\n",
              "      <td>1</td>\n",
              "    </tr>\n",
              "    <tr>\n",
              "      <th>9</th>\n",
              "      <td>2</td>\n",
              "      <td>0.374</td>\n",
              "      <td>0.000038</td>\n",
              "      <td>0.159</td>\n",
              "      <td>0.215</td>\n",
              "      <td>0.477</td>\n",
              "      <td>5.634</td>\n",
              "      <td>0.499</td>\n",
              "      <td>2.627</td>\n",
              "      <td>3.240</td>\n",
              "      <td>6.694</td>\n",
              "      <td>7.882</td>\n",
              "      <td>0.982695</td>\n",
              "      <td>0.017775</td>\n",
              "      <td>19.361</td>\n",
              "      <td>97.264</td>\n",
              "      <td>97.274</td>\n",
              "      <td>0.960</td>\n",
              "      <td>95.165</td>\n",
              "      <td>99.424</td>\n",
              "      <td>96</td>\n",
              "      <td>95</td>\n",
              "      <td>0.010280</td>\n",
              "      <td>0.000104</td>\n",
              "      <td>0.0</td>\n",
              "      <td>0</td>\n",
              "      <td>0.0</td>\n",
              "      <td>1</td>\n",
              "    </tr>\n",
              "  </tbody>\n",
              "</table>\n",
              "</div>"
            ],
            "text/plain": [
              "   ID  jitter_local  ...  degree_voice_break  class_information\n",
              "0   1         0.135  ...                 0.0                  1\n",
              "1   1         0.143  ...                 0.0                  1\n",
              "2   1         0.162  ...                 0.0                  1\n",
              "3   1         0.140  ...                 0.0                  1\n",
              "4   1         0.150  ...                 0.0                  1\n",
              "5   1         0.208  ...                 0.0                  1\n",
              "6   2         1.137  ...                 0.0                  1\n",
              "7   2         0.606  ...                 0.0                  1\n",
              "8   2         0.765  ...                 0.0                  1\n",
              "9   2         0.374  ...                 0.0                  1\n",
              "\n",
              "[10 rows x 28 columns]"
            ]
          },
          "metadata": {},
          "execution_count": 3
        }
      ]
    },
    {
      "cell_type": "code",
      "metadata": {
        "colab": {
          "base_uri": "https://localhost:8080/"
        },
        "id": "hWhzIqfyGNOU",
        "outputId": "26c2a86d-3d87-4735-eca3-7a22e9d27c1e"
      },
      "source": [
        "df.shape"
      ],
      "execution_count": null,
      "outputs": [
        {
          "output_type": "execute_result",
          "data": {
            "text/plain": [
              "(1208, 28)"
            ]
          },
          "metadata": {},
          "execution_count": 143
        }
      ]
    },
    {
      "cell_type": "markdown",
      "metadata": {
        "id": "qXislJJJElJw"
      },
      "source": [
        "# Separación de sujeto de prueba"
      ]
    },
    {
      "cell_type": "code",
      "metadata": {
        "id": "BBvnXzmPEqKD"
      },
      "source": [
        "sujeto_prueba = pd.DataFrame(df.iloc[1])\n",
        "sujeto_prueba = sujeto_prueba.transpose()\n",
        "#df = df.drop(labels=[0:5], axis=0)\n",
        "df.drop(df.index[[0,1,2,3,4,5]], inplace=True)\n"
      ],
      "execution_count": null,
      "outputs": []
    },
    {
      "cell_type": "code",
      "metadata": {
        "colab": {
          "base_uri": "https://localhost:8080/",
          "height": 100
        },
        "id": "9jFb7fcpKEnk",
        "outputId": "dd65d989-ff18-49f6-caf2-bac867cbc6d9"
      },
      "source": [
        "sujeto_prueba"
      ],
      "execution_count": null,
      "outputs": [
        {
          "output_type": "execute_result",
          "data": {
            "text/html": [
              "<div>\n",
              "<style scoped>\n",
              "    .dataframe tbody tr th:only-of-type {\n",
              "        vertical-align: middle;\n",
              "    }\n",
              "\n",
              "    .dataframe tbody tr th {\n",
              "        vertical-align: top;\n",
              "    }\n",
              "\n",
              "    .dataframe thead th {\n",
              "        text-align: right;\n",
              "    }\n",
              "</style>\n",
              "<table border=\"1\" class=\"dataframe\">\n",
              "  <thead>\n",
              "    <tr style=\"text-align: right;\">\n",
              "      <th></th>\n",
              "      <th>ID</th>\n",
              "      <th>jitter_local</th>\n",
              "      <th>jitter_local_absolute</th>\n",
              "      <th>jitter_rap</th>\n",
              "      <th>jitter_ppq5</th>\n",
              "      <th>jitter_ddp</th>\n",
              "      <th>shimmer_local</th>\n",
              "      <th>shimer_local_db</th>\n",
              "      <th>shimmer_apq3</th>\n",
              "      <th>shimmer_apq5</th>\n",
              "      <th>shimmer_apq11</th>\n",
              "      <th>shimer_dda</th>\n",
              "      <th>ac</th>\n",
              "      <th>nth</th>\n",
              "      <th>htn</th>\n",
              "      <th>median_pitch</th>\n",
              "      <th>mean_pitch</th>\n",
              "      <th>standard_deviation</th>\n",
              "      <th>minimum_pitch</th>\n",
              "      <th>maximum_pitch</th>\n",
              "      <th>number_pulses</th>\n",
              "      <th>periods</th>\n",
              "      <th>mean_period</th>\n",
              "      <th>std_period</th>\n",
              "      <th>locally_unvoiced_frames</th>\n",
              "      <th>voice_breaks</th>\n",
              "      <th>degree_voice_break</th>\n",
              "      <th>class_information</th>\n",
              "    </tr>\n",
              "  </thead>\n",
              "  <tbody>\n",
              "    <tr>\n",
              "      <th>1</th>\n",
              "      <td>1.0</td>\n",
              "      <td>0.143</td>\n",
              "      <td>0.000007</td>\n",
              "      <td>0.073</td>\n",
              "      <td>0.081</td>\n",
              "      <td>0.219</td>\n",
              "      <td>1.236</td>\n",
              "      <td>0.107</td>\n",
              "      <td>0.612</td>\n",
              "      <td>0.904</td>\n",
              "      <td>0.894</td>\n",
              "      <td>1.835</td>\n",
              "      <td>0.998471</td>\n",
              "      <td>0.001531</td>\n",
              "      <td>28.729</td>\n",
              "      <td>200.577</td>\n",
              "      <td>200.477</td>\n",
              "      <td>0.755</td>\n",
              "      <td>198.665</td>\n",
              "      <td>202.214</td>\n",
              "      <td>194.0</td>\n",
              "      <td>193.0</td>\n",
              "      <td>0.004988</td>\n",
              "      <td>0.00002</td>\n",
              "      <td>0.0</td>\n",
              "      <td>0.0</td>\n",
              "      <td>0.0</td>\n",
              "      <td>1.0</td>\n",
              "    </tr>\n",
              "  </tbody>\n",
              "</table>\n",
              "</div>"
            ],
            "text/plain": [
              "    ID  jitter_local  ...  degree_voice_break  class_information\n",
              "1  1.0         0.143  ...                 0.0                1.0\n",
              "\n",
              "[1 rows x 28 columns]"
            ]
          },
          "metadata": {},
          "execution_count": 145
        }
      ]
    },
    {
      "cell_type": "code",
      "metadata": {
        "colab": {
          "base_uri": "https://localhost:8080/",
          "height": 100
        },
        "id": "QxaZZYTsGRKk",
        "outputId": "c42e0903-c969-4f98-c0a9-6d4ffac727e1"
      },
      "source": [
        "sujeto_prueba_X = sujeto_prueba.drop(columns=['class_information','ID'])\n",
        "sujeto_prueba_X"
      ],
      "execution_count": null,
      "outputs": [
        {
          "output_type": "execute_result",
          "data": {
            "text/html": [
              "<div>\n",
              "<style scoped>\n",
              "    .dataframe tbody tr th:only-of-type {\n",
              "        vertical-align: middle;\n",
              "    }\n",
              "\n",
              "    .dataframe tbody tr th {\n",
              "        vertical-align: top;\n",
              "    }\n",
              "\n",
              "    .dataframe thead th {\n",
              "        text-align: right;\n",
              "    }\n",
              "</style>\n",
              "<table border=\"1\" class=\"dataframe\">\n",
              "  <thead>\n",
              "    <tr style=\"text-align: right;\">\n",
              "      <th></th>\n",
              "      <th>jitter_local</th>\n",
              "      <th>jitter_local_absolute</th>\n",
              "      <th>jitter_rap</th>\n",
              "      <th>jitter_ppq5</th>\n",
              "      <th>jitter_ddp</th>\n",
              "      <th>shimmer_local</th>\n",
              "      <th>shimer_local_db</th>\n",
              "      <th>shimmer_apq3</th>\n",
              "      <th>shimmer_apq5</th>\n",
              "      <th>shimmer_apq11</th>\n",
              "      <th>shimer_dda</th>\n",
              "      <th>ac</th>\n",
              "      <th>nth</th>\n",
              "      <th>htn</th>\n",
              "      <th>median_pitch</th>\n",
              "      <th>mean_pitch</th>\n",
              "      <th>standard_deviation</th>\n",
              "      <th>minimum_pitch</th>\n",
              "      <th>maximum_pitch</th>\n",
              "      <th>number_pulses</th>\n",
              "      <th>periods</th>\n",
              "      <th>mean_period</th>\n",
              "      <th>std_period</th>\n",
              "      <th>locally_unvoiced_frames</th>\n",
              "      <th>voice_breaks</th>\n",
              "      <th>degree_voice_break</th>\n",
              "    </tr>\n",
              "  </thead>\n",
              "  <tbody>\n",
              "    <tr>\n",
              "      <th>1</th>\n",
              "      <td>0.143</td>\n",
              "      <td>0.000007</td>\n",
              "      <td>0.073</td>\n",
              "      <td>0.081</td>\n",
              "      <td>0.219</td>\n",
              "      <td>1.236</td>\n",
              "      <td>0.107</td>\n",
              "      <td>0.612</td>\n",
              "      <td>0.904</td>\n",
              "      <td>0.894</td>\n",
              "      <td>1.835</td>\n",
              "      <td>0.998471</td>\n",
              "      <td>0.001531</td>\n",
              "      <td>28.729</td>\n",
              "      <td>200.577</td>\n",
              "      <td>200.477</td>\n",
              "      <td>0.755</td>\n",
              "      <td>198.665</td>\n",
              "      <td>202.214</td>\n",
              "      <td>194.0</td>\n",
              "      <td>193.0</td>\n",
              "      <td>0.004988</td>\n",
              "      <td>0.00002</td>\n",
              "      <td>0.0</td>\n",
              "      <td>0.0</td>\n",
              "      <td>0.0</td>\n",
              "    </tr>\n",
              "  </tbody>\n",
              "</table>\n",
              "</div>"
            ],
            "text/plain": [
              "   jitter_local  jitter_local_absolute  ...  voice_breaks  degree_voice_break\n",
              "1         0.143               0.000007  ...           0.0                 0.0\n",
              "\n",
              "[1 rows x 26 columns]"
            ]
          },
          "metadata": {},
          "execution_count": 146
        }
      ]
    },
    {
      "cell_type": "code",
      "metadata": {
        "colab": {
          "base_uri": "https://localhost:8080/"
        },
        "id": "YLapZxYMGgcx",
        "outputId": "d8bdc946-cf2e-4fcb-c352-914c4279acfc"
      },
      "source": [
        "sujeto_prueba_X.shape"
      ],
      "execution_count": null,
      "outputs": [
        {
          "output_type": "execute_result",
          "data": {
            "text/plain": [
              "(1, 26)"
            ]
          },
          "metadata": {},
          "execution_count": 147
        }
      ]
    },
    {
      "cell_type": "markdown",
      "metadata": {
        "id": "eFBHTvW-Eqij"
      },
      "source": [
        "# Resto de algoritmo"
      ]
    },
    {
      "cell_type": "code",
      "metadata": {
        "id": "bilrfkEiV61i"
      },
      "source": [
        "X = df.drop(columns=['class_information','ID'])\n",
        "y = df['class_information']"
      ],
      "execution_count": null,
      "outputs": []
    },
    {
      "cell_type": "code",
      "metadata": {
        "colab": {
          "base_uri": "https://localhost:8080/",
          "height": 224
        },
        "id": "xH33ZxzvZuvZ",
        "outputId": "868105a3-e0a9-49d5-f0a9-60476e832048"
      },
      "source": [
        "X.head()"
      ],
      "execution_count": null,
      "outputs": [
        {
          "output_type": "execute_result",
          "data": {
            "text/html": [
              "<div>\n",
              "<style scoped>\n",
              "    .dataframe tbody tr th:only-of-type {\n",
              "        vertical-align: middle;\n",
              "    }\n",
              "\n",
              "    .dataframe tbody tr th {\n",
              "        vertical-align: top;\n",
              "    }\n",
              "\n",
              "    .dataframe thead th {\n",
              "        text-align: right;\n",
              "    }\n",
              "</style>\n",
              "<table border=\"1\" class=\"dataframe\">\n",
              "  <thead>\n",
              "    <tr style=\"text-align: right;\">\n",
              "      <th></th>\n",
              "      <th>jitter_local</th>\n",
              "      <th>jitter_local_absolute</th>\n",
              "      <th>jitter_rap</th>\n",
              "      <th>jitter_ppq5</th>\n",
              "      <th>jitter_ddp</th>\n",
              "      <th>shimmer_local</th>\n",
              "      <th>shimer_local_db</th>\n",
              "      <th>shimmer_apq3</th>\n",
              "      <th>shimmer_apq5</th>\n",
              "      <th>shimmer_apq11</th>\n",
              "      <th>shimer_dda</th>\n",
              "      <th>ac</th>\n",
              "      <th>nth</th>\n",
              "      <th>htn</th>\n",
              "      <th>median_pitch</th>\n",
              "      <th>mean_pitch</th>\n",
              "      <th>standard_deviation</th>\n",
              "      <th>minimum_pitch</th>\n",
              "      <th>maximum_pitch</th>\n",
              "      <th>number_pulses</th>\n",
              "      <th>periods</th>\n",
              "      <th>mean_period</th>\n",
              "      <th>std_period</th>\n",
              "      <th>locally_unvoiced_frames</th>\n",
              "      <th>voice_breaks</th>\n",
              "      <th>degree_voice_break</th>\n",
              "    </tr>\n",
              "  </thead>\n",
              "  <tbody>\n",
              "    <tr>\n",
              "      <th>0</th>\n",
              "      <td>0.135</td>\n",
              "      <td>0.000007</td>\n",
              "      <td>0.067</td>\n",
              "      <td>0.078</td>\n",
              "      <td>0.202</td>\n",
              "      <td>2.033</td>\n",
              "      <td>0.178</td>\n",
              "      <td>1.074</td>\n",
              "      <td>1.336</td>\n",
              "      <td>1.576</td>\n",
              "      <td>3.223</td>\n",
              "      <td>0.996050</td>\n",
              "      <td>0.003967</td>\n",
              "      <td>24.204</td>\n",
              "      <td>186.266</td>\n",
              "      <td>186.300</td>\n",
              "      <td>0.859</td>\n",
              "      <td>184.502</td>\n",
              "      <td>187.880</td>\n",
              "      <td>183</td>\n",
              "      <td>182</td>\n",
              "      <td>0.005368</td>\n",
              "      <td>0.000025</td>\n",
              "      <td>0.0</td>\n",
              "      <td>0</td>\n",
              "      <td>0.0</td>\n",
              "    </tr>\n",
              "    <tr>\n",
              "      <th>1</th>\n",
              "      <td>0.143</td>\n",
              "      <td>0.000007</td>\n",
              "      <td>0.073</td>\n",
              "      <td>0.081</td>\n",
              "      <td>0.219</td>\n",
              "      <td>1.236</td>\n",
              "      <td>0.107</td>\n",
              "      <td>0.612</td>\n",
              "      <td>0.904</td>\n",
              "      <td>0.894</td>\n",
              "      <td>1.835</td>\n",
              "      <td>0.998471</td>\n",
              "      <td>0.001531</td>\n",
              "      <td>28.729</td>\n",
              "      <td>200.577</td>\n",
              "      <td>200.477</td>\n",
              "      <td>0.755</td>\n",
              "      <td>198.665</td>\n",
              "      <td>202.214</td>\n",
              "      <td>194</td>\n",
              "      <td>193</td>\n",
              "      <td>0.004988</td>\n",
              "      <td>0.000020</td>\n",
              "      <td>0.0</td>\n",
              "      <td>0</td>\n",
              "      <td>0.0</td>\n",
              "    </tr>\n",
              "    <tr>\n",
              "      <th>2</th>\n",
              "      <td>0.162</td>\n",
              "      <td>0.000008</td>\n",
              "      <td>0.087</td>\n",
              "      <td>0.089</td>\n",
              "      <td>0.260</td>\n",
              "      <td>1.338</td>\n",
              "      <td>0.117</td>\n",
              "      <td>0.630</td>\n",
              "      <td>0.948</td>\n",
              "      <td>1.017</td>\n",
              "      <td>1.891</td>\n",
              "      <td>0.998021</td>\n",
              "      <td>0.001984</td>\n",
              "      <td>27.349</td>\n",
              "      <td>202.868</td>\n",
              "      <td>202.425</td>\n",
              "      <td>1.860</td>\n",
              "      <td>197.220</td>\n",
              "      <td>206.060</td>\n",
              "      <td>198</td>\n",
              "      <td>197</td>\n",
              "      <td>0.004940</td>\n",
              "      <td>0.000046</td>\n",
              "      <td>0.0</td>\n",
              "      <td>0</td>\n",
              "      <td>0.0</td>\n",
              "    </tr>\n",
              "    <tr>\n",
              "      <th>3</th>\n",
              "      <td>0.140</td>\n",
              "      <td>0.000007</td>\n",
              "      <td>0.075</td>\n",
              "      <td>0.089</td>\n",
              "      <td>0.224</td>\n",
              "      <td>1.086</td>\n",
              "      <td>0.094</td>\n",
              "      <td>0.556</td>\n",
              "      <td>0.747</td>\n",
              "      <td>0.823</td>\n",
              "      <td>1.667</td>\n",
              "      <td>0.999154</td>\n",
              "      <td>0.000847</td>\n",
              "      <td>32.114</td>\n",
              "      <td>204.027</td>\n",
              "      <td>204.090</td>\n",
              "      <td>0.931</td>\n",
              "      <td>202.324</td>\n",
              "      <td>206.182</td>\n",
              "      <td>200</td>\n",
              "      <td>199</td>\n",
              "      <td>0.004900</td>\n",
              "      <td>0.000023</td>\n",
              "      <td>0.0</td>\n",
              "      <td>0</td>\n",
              "      <td>0.0</td>\n",
              "    </tr>\n",
              "    <tr>\n",
              "      <th>4</th>\n",
              "      <td>0.150</td>\n",
              "      <td>0.000007</td>\n",
              "      <td>0.080</td>\n",
              "      <td>0.097</td>\n",
              "      <td>0.240</td>\n",
              "      <td>1.049</td>\n",
              "      <td>0.091</td>\n",
              "      <td>0.533</td>\n",
              "      <td>0.698</td>\n",
              "      <td>0.777</td>\n",
              "      <td>1.599</td>\n",
              "      <td>0.999295</td>\n",
              "      <td>0.000706</td>\n",
              "      <td>32.816</td>\n",
              "      <td>207.519</td>\n",
              "      <td>207.468</td>\n",
              "      <td>0.880</td>\n",
              "      <td>205.407</td>\n",
              "      <td>209.927</td>\n",
              "      <td>204</td>\n",
              "      <td>203</td>\n",
              "      <td>0.004820</td>\n",
              "      <td>0.000022</td>\n",
              "      <td>0.0</td>\n",
              "      <td>0</td>\n",
              "      <td>0.0</td>\n",
              "    </tr>\n",
              "  </tbody>\n",
              "</table>\n",
              "</div>"
            ],
            "text/plain": [
              "   jitter_local  jitter_local_absolute  ...  voice_breaks  degree_voice_break\n",
              "0         0.135               0.000007  ...             0                 0.0\n",
              "1         0.143               0.000007  ...             0                 0.0\n",
              "2         0.162               0.000008  ...             0                 0.0\n",
              "3         0.140               0.000007  ...             0                 0.0\n",
              "4         0.150               0.000007  ...             0                 0.0\n",
              "\n",
              "[5 rows x 26 columns]"
            ]
          },
          "metadata": {},
          "execution_count": 5
        }
      ]
    },
    {
      "cell_type": "code",
      "metadata": {
        "colab": {
          "base_uri": "https://localhost:8080/"
        },
        "id": "hhl__v6GbnQ8",
        "outputId": "cc820e85-ec86-428c-e788-3ca23bebd00b"
      },
      "source": [
        "X.shape"
      ],
      "execution_count": null,
      "outputs": [
        {
          "output_type": "execute_result",
          "data": {
            "text/plain": [
              "(1208, 26)"
            ]
          },
          "metadata": {},
          "execution_count": 7
        }
      ]
    },
    {
      "cell_type": "code",
      "metadata": {
        "colab": {
          "base_uri": "https://localhost:8080/"
        },
        "id": "69nVM75hb4yo",
        "outputId": "da602c7d-ddb4-4c6a-dd2c-4339fd6f35d5"
      },
      "source": [
        "y.head()"
      ],
      "execution_count": null,
      "outputs": [
        {
          "output_type": "execute_result",
          "data": {
            "text/plain": [
              "0    1\n",
              "1    1\n",
              "2    1\n",
              "3    1\n",
              "4    1\n",
              "Name: class_information, dtype: int64"
            ]
          },
          "metadata": {},
          "execution_count": 8
        }
      ]
    },
    {
      "cell_type": "code",
      "metadata": {
        "id": "_rlAleaYW2E9"
      },
      "source": [
        "from sklearn.model_selection import train_test_split\n"
      ],
      "execution_count": null,
      "outputs": []
    },
    {
      "cell_type": "code",
      "metadata": {
        "id": "80xR54YUW2rF"
      },
      "source": [
        "X_train, X_test, y_train, y_test = train_test_split(X, y, test_size=0.3,random_state=109) # 70% training and 30% test"
      ],
      "execution_count": null,
      "outputs": []
    },
    {
      "cell_type": "code",
      "metadata": {
        "id": "AkJ-mQiPW8cf"
      },
      "source": [
        "#Import svm model\n",
        "from sklearn import svm"
      ],
      "execution_count": null,
      "outputs": []
    },
    {
      "cell_type": "code",
      "metadata": {
        "id": "j5bDWA0MHO0I",
        "colab": {
          "base_uri": "https://localhost:8080/"
        },
        "outputId": "53786939-10a0-4212-b9bd-8c33a05015a2"
      },
      "source": [
        "pip show sklearn"
      ],
      "execution_count": null,
      "outputs": [
        {
          "output_type": "stream",
          "name": "stdout",
          "text": [
            "Name: sklearn\n",
            "Version: 0.0\n",
            "Summary: A set of python modules for machine learning and data mining\n",
            "Home-page: https://pypi.python.org/pypi/scikit-learn/\n",
            "Author: UNKNOWN\n",
            "Author-email: UNKNOWN\n",
            "License: None\n",
            "Location: /usr/local/lib/python3.7/dist-packages\n",
            "Requires: scikit-learn\n",
            "Required-by: \n"
          ]
        }
      ]
    },
    {
      "cell_type": "code",
      "metadata": {
        "id": "aLQZYvJ9XBUk"
      },
      "source": [
        "#Create a svm Classifier\n",
        "clf = svm.SVC(C=10,gamma=0.0001,kernel='rbf') # Linear Kernel"
      ],
      "execution_count": null,
      "outputs": []
    },
    {
      "cell_type": "code",
      "metadata": {
        "colab": {
          "base_uri": "https://localhost:8080/"
        },
        "id": "k0lRtObGXEDr",
        "outputId": "dfd05f52-b7f8-4aa8-c842-42c887ade558"
      },
      "source": [
        "#Train the model using the training sets\n",
        "clf.fit(X_train, y_train)"
      ],
      "execution_count": null,
      "outputs": [
        {
          "output_type": "execute_result",
          "data": {
            "text/plain": [
              "SVC(C=10, break_ties=False, cache_size=200, class_weight=None, coef0=0.0,\n",
              "    decision_function_shape='ovr', degree=3, gamma=0.0001, kernel='rbf',\n",
              "    max_iter=-1, probability=False, random_state=None, shrinking=True,\n",
              "    tol=0.001, verbose=False)"
            ]
          },
          "metadata": {},
          "execution_count": 12
        }
      ]
    },
    {
      "cell_type": "code",
      "metadata": {
        "id": "S4uzmKxWXHeS"
      },
      "source": [
        "#Predict the response for test dataset\n",
        "y_pred = clf.predict(X_test)"
      ],
      "execution_count": null,
      "outputs": []
    },
    {
      "cell_type": "markdown",
      "metadata": {
        "id": "w4g5yHT2i4fJ"
      },
      "source": [
        "Reto 1 sesion 4 ML bedu"
      ]
    },
    {
      "cell_type": "code",
      "metadata": {
        "id": "wlDfhfYYi9Bi"
      },
      "source": [
        "y_pred_train = clf.predict(X_train)"
      ],
      "execution_count": null,
      "outputs": []
    },
    {
      "cell_type": "code",
      "metadata": {
        "id": "Edj0FudcjdNx"
      },
      "source": [
        "import numpy as np\n",
        "import pandas as pd\n",
        "from sklearn.datasets import load_boston\n",
        "from sklearn.model_selection import train_test_split\n",
        "from sklearn.linear_model import LinearRegression\n",
        "from sklearn.metrics import mean_squared_error"
      ],
      "execution_count": null,
      "outputs": []
    },
    {
      "cell_type": "code",
      "metadata": {
        "colab": {
          "base_uri": "https://localhost:8080/"
        },
        "id": "aB6fAuvPikx4",
        "outputId": "f00b0639-46cc-4994-e27d-8a4ce5caa49a"
      },
      "source": [
        "MSE = mean_squared_error(y_train,y_pred_train)\n",
        "print(\"Entrenamiento: MSE =\"+str(MSE))\n",
        "\n",
        "y_test_predict = clf.predict(X_test)\n",
        "MSE = (mean_squared_error(y_test, y_pred))\n",
        "print(\"Pruebas: MSE =\"+str(MSE))"
      ],
      "execution_count": null,
      "outputs": [
        {
          "output_type": "stream",
          "name": "stdout",
          "text": [
            "Entrenamiento: MSE =0.15384615384615385\n",
            "Pruebas: MSE =0.29201101928374656\n"
          ]
        }
      ]
    },
    {
      "cell_type": "code",
      "metadata": {
        "id": "Ip4cxu5DXI_k"
      },
      "source": [
        "#Import scikit-learn metrics module for accuracy calculation\n",
        "from sklearn import metrics"
      ],
      "execution_count": null,
      "outputs": []
    },
    {
      "cell_type": "code",
      "metadata": {
        "colab": {
          "base_uri": "https://localhost:8080/"
        },
        "id": "Hq5nBZXPXO28",
        "outputId": "cd2593e9-1491-4161-fa0d-34a90d74ed65"
      },
      "source": [
        "# Model Accuracy: how often is the classifier correct?\n",
        "print(\"Accuracy:\",metrics.accuracy_score(y_test, y_pred))"
      ],
      "execution_count": null,
      "outputs": [
        {
          "output_type": "stream",
          "name": "stdout",
          "text": [
            "Accuracy: 0.7079889807162535\n"
          ]
        }
      ]
    },
    {
      "cell_type": "code",
      "metadata": {
        "colab": {
          "base_uri": "https://localhost:8080/"
        },
        "id": "kMHR-MdUXYU8",
        "outputId": "489cec28-485f-4977-b905-b270fac4d9ab"
      },
      "source": [
        "# Model Precision: what percentage of positive tuples are labeled as such?\n",
        "print(\"Precision:\",metrics.precision_score(y_test, y_pred))\n",
        "\n",
        "# Model Recall: what percentage of positive tuples are labelled as such?\n",
        "print(\"Recall:\",metrics.recall_score(y_test, y_pred))"
      ],
      "execution_count": null,
      "outputs": [
        {
          "output_type": "stream",
          "name": "stdout",
          "text": [
            "Precision: 0.7233009708737864\n",
            "Recall: 0.7525252525252525\n"
          ]
        }
      ]
    },
    {
      "cell_type": "code",
      "metadata": {
        "id": "Xxrrc890AYNT"
      },
      "source": [
        "from sklearn import metrics\n",
        "import matplotlib.pyplot as plt\n",
        "import numpy as np\n",
        "import seaborn as sns\n",
        "from sklearn.metrics import roc_curve, auc\n"
      ],
      "execution_count": null,
      "outputs": []
    },
    {
      "cell_type": "code",
      "metadata": {
        "colab": {
          "base_uri": "https://localhost:8080/"
        },
        "id": "wRchQlD2AZqW",
        "outputId": "4fa01595-c7da-44fb-efe9-a5ac75471ee0"
      },
      "source": [
        "cnf_matrix = metrics.confusion_matrix(y_test, y_pred)\n",
        "\n",
        "cnf_matrix"
      ],
      "execution_count": null,
      "outputs": [
        {
          "output_type": "execute_result",
          "data": {
            "text/plain": [
              "array([[108,  57],\n",
              "       [ 49, 149]])"
            ]
          },
          "metadata": {},
          "execution_count": 19
        }
      ]
    },
    {
      "cell_type": "code",
      "metadata": {
        "colab": {
          "base_uri": "https://localhost:8080/",
          "height": 457
        },
        "id": "ZrTZo-0DAbK7",
        "outputId": "d41332fa-e7bc-47b1-bd08-85f160ef6b6f"
      },
      "source": [
        "class_names=[0,1] # name  of classes\n",
        "fig, ax = plt.subplots(figsize=(6, 6))\n",
        "tick_marks = np.arange(len(class_names))\n",
        "plt.xticks(tick_marks, class_names)\n",
        "plt.yticks(tick_marks, class_names)\n",
        "# create heatmap\n",
        "sns.heatmap(pd.DataFrame(cnf_matrix), annot=True, cmap=\"Blues\" ,fmt='g', cbar=False, annot_kws={\"size\": 20})\n",
        "ax.xaxis.set_label_position(\"top\")\n",
        "plt.tight_layout()\n",
        "plt.ylabel('Realidad', fontsize=15, y=0.5)\n",
        "plt.xlabel('Estimado por el modelo', fontsize=15);"
      ],
      "execution_count": null,
      "outputs": [
        {
          "output_type": "display_data",
          "data": {
            "image/png": "[encoded data removed]",
            "text/plain": [
              "<Figure size 432x432 with 1 Axes>"
            ]
          },
          "metadata": {
            "needs_background": "light"
          }
        }
      ]
    },
    {
      "cell_type": "code",
      "metadata": {
        "id": "k1jAHUrHCYXX"
      },
      "source": [
        "y_train_pred = clf.decision_function(X_train)  \n",
        "y_test_pred = clf.decision_function(X_test)  "
      ],
      "execution_count": null,
      "outputs": []
    },
    {
      "cell_type": "code",
      "metadata": {
        "colab": {
          "base_uri": "https://localhost:8080/",
          "height": 295
        },
        "id": "lMrJI_-XA1xH",
        "outputId": "40398b62-0d0c-48bd-a8dc-0558f1118ae1"
      },
      "source": [
        "train_fpr, train_tpr, tr_thresholds = roc_curve(y_train, y_train_pred)\n",
        "test_fpr, test_tpr, te_thresholds = roc_curve(y_test, y_test_pred)\n",
        "\n",
        "plt.grid()\n",
        "\n",
        "plt.plot(test_fpr, test_tpr,color='darkorange', label=\" AUC TEST =\"+str(auc(test_fpr, test_tpr)))\n",
        "plt.plot([0,1],[0,1],color='navy',linestyle='--')\n",
        "plt.legend()\n",
        "plt.xlabel(\"True Positive Rate\")\n",
        "plt.ylabel(\"False Positive Rate\")\n",
        "plt.title(\"AUC(ROC curve)\")\n",
        "plt.grid(color='black', linestyle='-', linewidth=0.5)\n",
        "plt.show()"
      ],
      "execution_count": null,
      "outputs": [
        {
          "output_type": "display_data",
          "data": {
            "image/png": "[encoded data removed]",
            "text/plain": [
              "<Figure size 432x288 with 1 Axes>"
            ]
          },
          "metadata": {
            "needs_background": "light"
          }
        }
      ]
    },
    {
      "cell_type": "markdown",
      "metadata": {
        "id": "wPH8N9UfaiXI"
      },
      "source": [
        "#cross validation to get the best C, gamma and kernel"
      ]
    },
    {
      "cell_type": "code",
      "metadata": {
        "id": "gloUwMt0astA"
      },
      "source": [
        "from sklearn import datasets\n",
        "from sklearn.model_selection import train_test_split\n",
        "from sklearn.model_selection import GridSearchCV\n",
        "from sklearn.metrics import classification_report\n",
        "from sklearn.svm import SVC"
      ],
      "execution_count": null,
      "outputs": []
    },
    {
      "cell_type": "code",
      "metadata": {
        "id": "9CeMjTMtatzs"
      },
      "source": [
        "X_train, X_test, y_train, y_test = train_test_split(X, y, test_size=0.5,random_state=0) # 50% training and 50% test"
      ],
      "execution_count": null,
      "outputs": []
    },
    {
      "cell_type": "code",
      "metadata": {
        "id": "01yyyqSma4_L"
      },
      "source": [
        "# Set the parameters by cross-validation\n",
        "tuned_parameters = [{'kernel': ['rbf'], 'gamma': [1e-3, 1e-4],\n",
        "                     'C': [1, 10, 100, 1000]},\n",
        "                    {'kernel': ['linear'], 'C': [1, 10, 100, 1000]}]"
      ],
      "execution_count": null,
      "outputs": []
    },
    {
      "cell_type": "code",
      "metadata": {
        "id": "gtOPpkeha97L"
      },
      "source": [
        "scores = ['precision', 'recall']\n"
      ],
      "execution_count": null,
      "outputs": []
    },
    {
      "cell_type": "code",
      "metadata": {
        "id": "9bsK3Re3a-U4"
      },
      "source": [
        "for score in scores:\n",
        "    print(\"# Tuning hyper-parameters for %s\" % score)\n",
        "    print()\n",
        "\n",
        "    clf = GridSearchCV(\n",
        "        SVC(), tuned_parameters, scoring='%s_macro' % score\n",
        "    )\n",
        "    clf.fit(X_train, y_train)\n",
        "\n",
        "    print(\"Best parameters set found on development set:\")\n",
        "    print()\n",
        "    print(clf.best_params_)\n",
        "    print()\n",
        "    print(\"Grid scores on development set:\")\n",
        "    print()\n",
        "    means = clf.cv_results_['mean_test_score']\n",
        "    stds = clf.cv_results_['std_test_score']\n",
        "    for mean, std, params in zip(means, stds, clf.cv_results_['params']):\n",
        "        print(\"%0.3f (+/-%0.03f) for %r\"\n",
        "              % (mean, std * 2, params))\n",
        "    print()\n",
        "\n",
        "    print(\"Detailed classification report:\")\n",
        "    print()\n",
        "    print(\"The model is trained on the full development set.\")\n",
        "    print(\"The scores are computed on the full evaluation set.\")\n",
        "    print()\n",
        "    y_true, y_pred = y_test, clf.predict(X_test)\n",
        "    print(classification_report(y_true, y_pred))\n",
        "    print()"
      ],
      "execution_count": null,
      "outputs": []
    },
    {
      "cell_type": "markdown",
      "metadata": {
        "id": "PCQMA26nBsnE"
      },
      "source": [
        "#practical"
      ]
    },
    {
      "cell_type": "code",
      "metadata": {
        "id": "hOiI7CumBwZy"
      },
      "source": [
        "df_audio=pd.read_csv('./audio_new_ethan_test.csv')\n"
      ],
      "execution_count": null,
      "outputs": []
    },
    {
      "cell_type": "code",
      "metadata": {
        "colab": {
          "base_uri": "https://localhost:8080/",
          "height": 168
        },
        "id": "H7waQx7MCmfB",
        "outputId": "619fd0e3-28e8-4c5f-ffbe-e72cfe73fcf9"
      },
      "source": [
        "df_audio"
      ],
      "execution_count": null,
      "outputs": [
        {
          "output_type": "execute_result",
          "data": {
            "text/html": [
              "<div>\n",
              "<style scoped>\n",
              "    .dataframe tbody tr th:only-of-type {\n",
              "        vertical-align: middle;\n",
              "    }\n",
              "\n",
              "    .dataframe tbody tr th {\n",
              "        vertical-align: top;\n",
              "    }\n",
              "\n",
              "    .dataframe thead th {\n",
              "        text-align: right;\n",
              "    }\n",
              "</style>\n",
              "<table border=\"1\" class=\"dataframe\">\n",
              "  <thead>\n",
              "    <tr style=\"text-align: right;\">\n",
              "      <th></th>\n",
              "      <th>Jitter (local):</th>\n",
              "      <th>Jitter (local, absolute):</th>\n",
              "      <th>Jitter (rap):</th>\n",
              "      <th>Jitter (ppq5):</th>\n",
              "      <th>Jitter (ddp):</th>\n",
              "      <th>Shimmer (local):</th>\n",
              "      <th>Shimmer (local, dB):</th>\n",
              "      <th>Shimmer (apq3):</th>\n",
              "      <th>Shimmer (apq5):</th>\n",
              "      <th>Shimmer (apq11):</th>\n",
              "      <th>Shimmer (dda):</th>\n",
              "      <th>Mean autocorrelation:</th>\n",
              "      <th>Mean noise-to-harmonics ratio:</th>\n",
              "      <th>Mean harmonics-to-noise ratio:</th>\n",
              "      <th>Median pitch:</th>\n",
              "      <th>Mean pitch:</th>\n",
              "      <th>Standard deviation:</th>\n",
              "      <th>Minimum pitch:</th>\n",
              "      <th>Maximum pitch:</th>\n",
              "      <th>Number of pulses:</th>\n",
              "      <th>Number of periods:</th>\n",
              "      <th>Mean period:</th>\n",
              "      <th>Standard deviation of period:</th>\n",
              "      <th>Fraction of locally unvoiced frames:</th>\n",
              "      <th>Number of voice breaks:</th>\n",
              "      <th>Degree of voice breaks:</th>\n",
              "    </tr>\n",
              "  </thead>\n",
              "  <tbody>\n",
              "    <tr>\n",
              "      <th>0</th>\n",
              "      <td>0.00804</td>\n",
              "      <td>0.00008</td>\n",
              "      <td>0.00465</td>\n",
              "      <td>0.00437</td>\n",
              "      <td>0.01396</td>\n",
              "      <td>0.0754</td>\n",
              "      <td>0.7</td>\n",
              "      <td>0.04216</td>\n",
              "      <td>0.04382</td>\n",
              "      <td>0.05</td>\n",
              "      <td>0.12647</td>\n",
              "      <td>0.932847</td>\n",
              "      <td>0.084179</td>\n",
              "      <td>14.788</td>\n",
              "      <td>100.089</td>\n",
              "      <td>100.073</td>\n",
              "      <td>2.287</td>\n",
              "      <td>87.308</td>\n",
              "      <td>123.896</td>\n",
              "      <td>1746.0</td>\n",
              "      <td>1739.0</td>\n",
              "      <td>0.009993</td>\n",
              "      <td>0.00024</td>\n",
              "      <td>0.47692</td>\n",
              "      <td>6.0</td>\n",
              "      <td>0.45129</td>\n",
              "    </tr>\n",
              "  </tbody>\n",
              "</table>\n",
              "</div>"
            ],
            "text/plain": [
              "   Jitter (local):   ...  Degree of voice breaks: \n",
              "0           0.00804  ...                   0.45129\n",
              "\n",
              "[1 rows x 26 columns]"
            ]
          },
          "metadata": {},
          "execution_count": 24
        }
      ]
    },
    {
      "cell_type": "code",
      "metadata": {
        "colab": {
          "base_uri": "https://localhost:8080/",
          "height": 100
        },
        "id": "07ZUgUxOB5do",
        "outputId": "098c70fd-51c0-48e2-8ddb-a60b46c1b7f6"
      },
      "source": [
        "df_audio.columns = list(X.columns)\n",
        "df_audio"
      ],
      "execution_count": null,
      "outputs": [
        {
          "output_type": "execute_result",
          "data": {
            "text/html": [
              "<div>\n",
              "<style scoped>\n",
              "    .dataframe tbody tr th:only-of-type {\n",
              "        vertical-align: middle;\n",
              "    }\n",
              "\n",
              "    .dataframe tbody tr th {\n",
              "        vertical-align: top;\n",
              "    }\n",
              "\n",
              "    .dataframe thead th {\n",
              "        text-align: right;\n",
              "    }\n",
              "</style>\n",
              "<table border=\"1\" class=\"dataframe\">\n",
              "  <thead>\n",
              "    <tr style=\"text-align: right;\">\n",
              "      <th></th>\n",
              "      <th>jitter_local</th>\n",
              "      <th>jitter_local_absolute</th>\n",
              "      <th>jitter_rap</th>\n",
              "      <th>jitter_ppq5</th>\n",
              "      <th>jitter_ddp</th>\n",
              "      <th>shimmer_local</th>\n",
              "      <th>shimer_local_db</th>\n",
              "      <th>shimmer_apq3</th>\n",
              "      <th>shimmer_apq5</th>\n",
              "      <th>shimmer_apq11</th>\n",
              "      <th>shimer_dda</th>\n",
              "      <th>ac</th>\n",
              "      <th>nth</th>\n",
              "      <th>htn</th>\n",
              "      <th>median_pitch</th>\n",
              "      <th>mean_pitch</th>\n",
              "      <th>standard_deviation</th>\n",
              "      <th>minimum_pitch</th>\n",
              "      <th>maximum_pitch</th>\n",
              "      <th>number_pulses</th>\n",
              "      <th>periods</th>\n",
              "      <th>mean_period</th>\n",
              "      <th>std_period</th>\n",
              "      <th>locally_unvoiced_frames</th>\n",
              "      <th>voice_breaks</th>\n",
              "      <th>degree_voice_break</th>\n",
              "    </tr>\n",
              "  </thead>\n",
              "  <tbody>\n",
              "    <tr>\n",
              "      <th>0</th>\n",
              "      <td>0.00804</td>\n",
              "      <td>0.00008</td>\n",
              "      <td>0.00465</td>\n",
              "      <td>0.00437</td>\n",
              "      <td>0.01396</td>\n",
              "      <td>0.0754</td>\n",
              "      <td>0.7</td>\n",
              "      <td>0.04216</td>\n",
              "      <td>0.04382</td>\n",
              "      <td>0.05</td>\n",
              "      <td>0.12647</td>\n",
              "      <td>0.932847</td>\n",
              "      <td>0.084179</td>\n",
              "      <td>14.788</td>\n",
              "      <td>100.089</td>\n",
              "      <td>100.073</td>\n",
              "      <td>2.287</td>\n",
              "      <td>87.308</td>\n",
              "      <td>123.896</td>\n",
              "      <td>1746.0</td>\n",
              "      <td>1739.0</td>\n",
              "      <td>0.009993</td>\n",
              "      <td>0.00024</td>\n",
              "      <td>0.47692</td>\n",
              "      <td>6.0</td>\n",
              "      <td>0.45129</td>\n",
              "    </tr>\n",
              "  </tbody>\n",
              "</table>\n",
              "</div>"
            ],
            "text/plain": [
              "   jitter_local  jitter_local_absolute  ...  voice_breaks  degree_voice_break\n",
              "0       0.00804                0.00008  ...           6.0             0.45129\n",
              "\n",
              "[1 rows x 26 columns]"
            ]
          },
          "metadata": {},
          "execution_count": 25
        }
      ]
    },
    {
      "cell_type": "code",
      "metadata": {
        "id": "L9GeDsp2B7Yj"
      },
      "source": [
        "y_pred = clf.predict(df_audio)"
      ],
      "execution_count": null,
      "outputs": []
    },
    {
      "cell_type": "code",
      "metadata": {
        "colab": {
          "base_uri": "https://localhost:8080/"
        },
        "id": "q00LXknRB9Hp",
        "outputId": "19fcc296-4314-4fa0-f634-b84f8ae18d33"
      },
      "source": [
        "y_pred"
      ],
      "execution_count": null,
      "outputs": [
        {
          "output_type": "execute_result",
          "data": {
            "text/plain": [
              "array([0])"
            ]
          },
          "metadata": {},
          "execution_count": 27
        }
      ]
    },
    {
      "cell_type": "code",
      "metadata": {
        "colab": {
          "base_uri": "https://localhost:8080/"
        },
        "id": "SEj9moUkCtZ2",
        "outputId": "6369d581-085c-4083-aae1-9dd8f2137280"
      },
      "source": [
        "if y_pred[0] == 1:\n",
        "  print(\"Patient has some form of parkinson\")\n",
        "else:\n",
        "  print(\"Patient does not have parkinson\")"
      ],
      "execution_count": null,
      "outputs": [
        {
          "output_type": "stream",
          "name": "stdout",
          "text": [
            "Patient does not have parkinson\n"
          ]
        }
      ]
    },
    {
      "cell_type": "markdown",
      "metadata": {
        "id": "A0G0W68Hko6C"
      },
      "source": [
        "# Save ML SVM trained model"
      ]
    },
    {
      "cell_type": "code",
      "metadata": {
        "id": "iHJRLIBCksls",
        "colab": {
          "base_uri": "https://localhost:8080/",
          "height": 197
        },
        "outputId": "5342e0ea-2599-4d9e-fe94-142377afc64b"
      },
      "source": [
        "filename = 'parkinson_svm_model.sav'\n",
        "pickle.dump(clf, open(filename, 'wb'))"
      ],
      "execution_count": null,
      "outputs": [
        {
          "output_type": "error",
          "ename": "NameError",
          "evalue": "ignored",
          "traceback": [
            "\u001b[0;31m---------------------------------------------------------------------------\u001b[0m",
            "\u001b[0;31mNameError\u001b[0m                                 Traceback (most recent call last)",
            "\u001b[0;32m<ipython-input-3-f429063e7237>\u001b[0m in \u001b[0;36m<module>\u001b[0;34m()\u001b[0m\n\u001b[1;32m      1\u001b[0m \u001b[0;31m#filename = 'parkinson_svm_model.sav'\u001b[0m\u001b[0;34m\u001b[0m\u001b[0;34m\u001b[0m\u001b[0;34m\u001b[0m\u001b[0m\n\u001b[1;32m      2\u001b[0m \u001b[0mfilename\u001b[0m \u001b[0;34m=\u001b[0m \u001b[0;34m'https://github.com/eecastillo/parkinson_analisis/blob/master/python_code/parkinson_svm_model.sav'\u001b[0m\u001b[0;34m\u001b[0m\u001b[0;34m\u001b[0m\u001b[0m\n\u001b[0;32m----> 3\u001b[0;31m \u001b[0mpickle\u001b[0m\u001b[0;34m.\u001b[0m\u001b[0mdump\u001b[0m\u001b[0;34m(\u001b[0m\u001b[0mclf\u001b[0m\u001b[0;34m,\u001b[0m \u001b[0mopen\u001b[0m\u001b[0;34m(\u001b[0m\u001b[0mfilename\u001b[0m\u001b[0;34m,\u001b[0m \u001b[0;34m'wb'\u001b[0m\u001b[0;34m)\u001b[0m\u001b[0;34m)\u001b[0m\u001b[0;34m\u001b[0m\u001b[0;34m\u001b[0m\u001b[0m\n\u001b[0m",
            "\u001b[0;31mNameError\u001b[0m: name 'clf' is not defined"
          ]
        }
      ]
    },
    {
      "cell_type": "code",
      "metadata": {
        "id": "LXqRYLv0le9q",
        "colab": {
          "base_uri": "https://localhost:8080/",
          "height": 214
        },
        "outputId": "cb598106-11e3-499a-b2bf-c584dc1d9a28"
      },
      "source": [
        "filename = 'https://github.com/eecastillo/parkinson_analisis/blob/master/python_code/parkinson_svm_model.sav'\n",
        "\n",
        "loaded_model = pickle.load(open(filename, 'rb'))\n",
        "prediction=loaded_model.predict(df_audio)\n"
      ],
      "execution_count": null,
      "outputs": [
        {
          "output_type": "error",
          "ename": "FileNotFoundError",
          "evalue": "ignored",
          "traceback": [
            "\u001b[0;31m---------------------------------------------------------------------------\u001b[0m",
            "\u001b[0;31mFileNotFoundError\u001b[0m                         Traceback (most recent call last)",
            "\u001b[0;32m<ipython-input-4-10af85e76fa0>\u001b[0m in \u001b[0;36m<module>\u001b[0;34m()\u001b[0m\n\u001b[1;32m      1\u001b[0m \u001b[0mfilename\u001b[0m \u001b[0;34m=\u001b[0m \u001b[0;34m'https://github.com/eecastillo/parkinson_analisis/blob/master/python_code/parkinson_svm_model.sav'\u001b[0m\u001b[0;34m\u001b[0m\u001b[0;34m\u001b[0m\u001b[0m\n\u001b[1;32m      2\u001b[0m \u001b[0;34m\u001b[0m\u001b[0m\n\u001b[0;32m----> 3\u001b[0;31m \u001b[0mloaded_model\u001b[0m \u001b[0;34m=\u001b[0m \u001b[0mpickle\u001b[0m\u001b[0;34m.\u001b[0m\u001b[0mload\u001b[0m\u001b[0;34m(\u001b[0m\u001b[0mopen\u001b[0m\u001b[0;34m(\u001b[0m\u001b[0mfilename\u001b[0m\u001b[0;34m,\u001b[0m \u001b[0;34m'rb'\u001b[0m\u001b[0;34m)\u001b[0m\u001b[0;34m)\u001b[0m\u001b[0;34m\u001b[0m\u001b[0;34m\u001b[0m\u001b[0m\n\u001b[0m\u001b[1;32m      4\u001b[0m \u001b[0mprediction\u001b[0m\u001b[0;34m=\u001b[0m\u001b[0mloaded_model\u001b[0m\u001b[0;34m.\u001b[0m\u001b[0mpredict\u001b[0m\u001b[0;34m(\u001b[0m\u001b[0mdf_audio\u001b[0m\u001b[0;34m)\u001b[0m\u001b[0;34m\u001b[0m\u001b[0;34m\u001b[0m\u001b[0m\n",
            "\u001b[0;31mFileNotFoundError\u001b[0m: [Errno 2] No such file or directory: 'https://github.com/eecastillo/parkinson_analisis/blob/master/python_code/parkinson_svm_model.sav'"
          ]
        }
      ]
    },
    {
      "cell_type": "code",
      "metadata": {
        "id": "-0MHJaSYlvzn",
        "colab": {
          "base_uri": "https://localhost:8080/"
        },
        "outputId": "a3818989-cbe6-4a5f-97c0-67165248399c"
      },
      "source": [
        "prediction"
      ],
      "execution_count": null,
      "outputs": [
        {
          "output_type": "execute_result",
          "data": {
            "text/plain": [
              "array([0])"
            ]
          },
          "metadata": {},
          "execution_count": 33
        }
      ]
    }
  ]
}