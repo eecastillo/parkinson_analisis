{
  "nbformat": 4,
  "nbformat_minor": 0,
  "metadata": {
    "colab": {
      "name": "audio_explorer.ipynb",
      "provenance": [],
      "collapsed_sections": [],
      "authorship_tag": "ABX9TyN6SGmjMxukTPzayNtN8bhq",
      "include_colab_link": true
    },
    "kernelspec": {
      "name": "python3",
      "display_name": "Python 3"
    },
    "language_info": {
      "name": "python"
    }
  },
  "cells": [
    {
      "cell_type": "markdown",
      "metadata": {
        "id": "view-in-github",
        "colab_type": "text"
      },
      "source": [
        "<a href=\"https://colab.research.google.com/github/eecastillo/parkinson_analisis/blob/master/notebooks/audio_explorer.ipynb\" target=\"_parent\"><img src=\"https://colab.research.google.com/assets/colab-badge.svg\" alt=\"Open In Colab\"/></a>"
      ]
    },
    {
      "cell_type": "code",
      "metadata": {
        "colab": {
          "base_uri": "https://localhost:8080/"
        },
        "id": "1j7ZWMWzFmZt",
        "outputId": "7d528803-4200-4eed-ec15-d13b692e3e75"
      },
      "source": [
        "!pip install praat-parselmouth\n",
        "!pip install my-voice-analysis\n"
      ],
      "execution_count": null,
      "outputs": [
        {
          "output_type": "stream",
          "name": "stdout",
          "text": [
            "Collecting praat-parselmouth\n",
            "  Downloading praat_parselmouth-0.4.0-cp37-cp37m-manylinux2010_x86_64.whl (10.7 MB)\n",
            "\u001b[K     |████████████████████████████████| 10.7 MB 31.1 MB/s \n",
            "\u001b[?25hRequirement already satisfied: numpy>=1.7.0 in /usr/local/lib/python3.7/dist-packages (from praat-parselmouth) (1.19.5)\n",
            "Installing collected packages: praat-parselmouth\n",
            "Successfully installed praat-parselmouth-0.4.0\n",
            "Collecting my-voice-analysis\n",
            "  Downloading my_voice_analysis-0.7-py3-none-any.whl (16 kB)\n",
            "Requirement already satisfied: pandas>=0.23.4 in /usr/local/lib/python3.7/dist-packages (from my-voice-analysis) (1.1.5)\n",
            "Requirement already satisfied: scipy>=1.1.0 in /usr/local/lib/python3.7/dist-packages (from my-voice-analysis) (1.4.1)\n",
            "Requirement already satisfied: praat-parselmouth>=0.3.2 in /usr/local/lib/python3.7/dist-packages (from my-voice-analysis) (0.4.0)\n",
            "Requirement already satisfied: numpy>=1.15.2 in /usr/local/lib/python3.7/dist-packages (from my-voice-analysis) (1.19.5)\n",
            "Requirement already satisfied: python-dateutil>=2.7.3 in /usr/local/lib/python3.7/dist-packages (from pandas>=0.23.4->my-voice-analysis) (2.8.2)\n",
            "Requirement already satisfied: pytz>=2017.2 in /usr/local/lib/python3.7/dist-packages (from pandas>=0.23.4->my-voice-analysis) (2018.9)\n",
            "Requirement already satisfied: six>=1.5 in /usr/local/lib/python3.7/dist-packages (from python-dateutil>=2.7.3->pandas>=0.23.4->my-voice-analysis) (1.15.0)\n",
            "Installing collected packages: my-voice-analysis\n",
            "Successfully installed my-voice-analysis-0.7\n"
          ]
        }
      ]
    },
    {
      "cell_type": "code",
      "metadata": {
        "id": "-ISsWosYEsWn"
      },
      "source": [
        "#!/usr/bin/env python3\n",
        "import glob\n",
        "import numpy as np\n",
        "import pandas as pd\n",
        "import parselmouth \n",
        "import statistics\n",
        "\n",
        "from parselmouth.praat import call\n",
        "from scipy.stats.mstats import zscore\n",
        "from sklearn.decomposition import PCA\n",
        "from sklearn.preprocessing import StandardScaler\n",
        "import matplotlib.pyplot as plt\n",
        "import seaborn as sns"
      ],
      "execution_count": null,
      "outputs": []
    },
    {
      "cell_type": "code",
      "metadata": {
        "id": "6usgKIYYc1jB"
      },
      "source": [
        "sns.set() # Use seaborn's default style to make attractive graphs\n",
        "plt.rcParams['figure.dpi'] = 100 # Show nicely large images in this notebook"
      ],
      "execution_count": null,
      "outputs": []
    },
    {
      "cell_type": "code",
      "metadata": {
        "id": "2mK05H-ZM5uo"
      },
      "source": [
        "# This is the function to measure voice pitch\n",
        "def measurePitch(voiceID, f0min, f0max, unit):\n",
        "    sound = parselmouth.Sound(voiceID) # read the sound\n",
        "    pitch = call(sound, \"To Pitch\", 0.0, f0min, f0max) #create a praat pitch object\n",
        "    meanF0 = call(pitch, \"Get mean\", 0, 0, unit) # get mean pitch\n",
        "    stdevF0 = call(pitch, \"Get standard deviation\", 0 ,0, unit) # get standard deviation\n",
        "    harmonicity = call(sound, \"To Harmonicity (cc)\", 0.01, 75, 0.1, 1.0)\n",
        "    hnr = call(harmonicity, \"Get mean\", 0, 0)\n",
        "    pointProcess = call(sound, \"To PointProcess (periodic, cc)\", f0min, f0max)\n",
        "    localJitter = call(pointProcess, \"Get jitter (local)\", 0, 0, 0.0001, 0.02, 1.3)\n",
        "    localabsoluteJitter = call(pointProcess, \"Get jitter (local, absolute)\", 0, 0, 0.0001, 0.02, 1.3)\n",
        "    rapJitter = call(pointProcess, \"Get jitter (rap)\", 0, 0, 0.0001, 0.02, 1.3)\n",
        "    ppq5Jitter = call(pointProcess, \"Get jitter (ppq5)\", 0, 0, 0.0001, 0.02, 1.3)\n",
        "    ddpJitter = call(pointProcess, \"Get jitter (ddp)\", 0, 0, 0.0001, 0.02, 1.3)\n",
        "    localShimmer =  call([sound, pointProcess], \"Get shimmer (local)\", 0, 0, 0.0001, 0.02, 1.3, 1.6)\n",
        "    localdbShimmer = call([sound, pointProcess], \"Get shimmer (local_dB)\", 0, 0, 0.0001, 0.02, 1.3, 1.6)\n",
        "    apq3Shimmer = call([sound, pointProcess], \"Get shimmer (apq3)\", 0, 0, 0.0001, 0.02, 1.3, 1.6)\n",
        "    aqpq5Shimmer = call([sound, pointProcess], \"Get shimmer (apq5)\", 0, 0, 0.0001, 0.02, 1.3, 1.6)\n",
        "    apq11Shimmer =  call([sound, pointProcess], \"Get shimmer (apq11)\", 0, 0, 0.0001, 0.02, 1.3, 1.6)\n",
        "    ddaShimmer = call([sound, pointProcess], \"Get shimmer (dda)\", 0, 0, 0.0001, 0.02, 1.3, 1.6)\n",
        "\n",
        "    point_process = parselmouth.praat.call([sound, pitch], \"To PointProcess (cc)\")\n",
        "    voice_report = parselmouth.praat.call([sound, pitch, point_process], \"Voice report\", 0, 0, 75, 600, 1.3, 1.6, 0.03, 0.45)\n",
        "    print(voice_report)\n",
        "\n",
        "    return meanF0, stdevF0, hnr, localJitter, localabsoluteJitter, rapJitter, ppq5Jitter, ddpJitter, localShimmer, localdbShimmer, apq3Shimmer, aqpq5Shimmer, apq11Shimmer, ddaShimmer"
      ],
      "execution_count": null,
      "outputs": []
    },
    {
      "cell_type": "code",
      "metadata": {
        "id": "2vXA4k9syt8f"
      },
      "source": [
        "def getData(voiceID):\n",
        "    sound = parselmouth.Sound(voiceID)\n",
        "    pitch = sound.to_pitch_ac(very_accurate=False)\n",
        "    point_process = parselmouth.praat.call([sound, pitch], \"To PointProcess (cc)\")\n",
        "    voice_report = parselmouth.praat.call([sound, pitch, point_process], \"Voice report\", 0, 0, 75, 600, 1.3, 1.6, 0.03, 0.45)\n",
        "    return voice_report"
      ],
      "execution_count": null,
      "outputs": []
    },
    {
      "cell_type": "code",
      "metadata": {
        "id": "NNujPf5uarqD",
        "colab": {
          "base_uri": "https://localhost:8080/",
          "height": 52
        },
        "outputId": "d0061430-d9b6-4a6d-b084-c8490b6f9afc"
      },
      "source": [
        "\"\"\"\n",
        "Missing features, further investigation needed\n",
        "features 12-14: AC,NTH,HTN,\n",
        "features 15-19: Median pitch,Minimum pitch,Maximum pitch,\n",
        "features 20-23: Number of pulses,Number of periods,Mean period,Standard deviation of period, \n",
        "features 24-26: Fraction of locally unvoiced frames,Number of voice breaks,Degree of voice breaks\n",
        "\"\"\""
      ],
      "execution_count": null,
      "outputs": [
        {
          "output_type": "execute_result",
          "data": {
            "application/vnd.google.colaboratory.intrinsic+json": {
              "type": "string"
            },
            "text/plain": [
              "'\\nMissing features, further investigation needed\\nfeatures 12-14: AC,NTH,HTN,\\nfeatures 15-19: Median pitch,Minimum pitch,Maximum pitch,\\nfeatures 20-23: Number of pulses,Number of periods,Mean period,Standard deviation of period, \\nfeatures 24-26: Fraction of locally unvoiced frames,Number of voice breaks,Degree of voice breaks\\n'"
            ]
          },
          "metadata": {},
          "execution_count": 5
        }
      ]
    },
    {
      "cell_type": "code",
      "metadata": {
        "id": "NkA9GlvENYJw"
      },
      "source": [
        "sound = parselmouth.Sound(\"/content/fer_audio.wav\")\n"
      ],
      "execution_count": null,
      "outputs": []
    },
    {
      "cell_type": "code",
      "metadata": {
        "colab": {
          "base_uri": "https://localhost:8080/",
          "height": 295
        },
        "id": "9Fju6CpPc9Qc",
        "outputId": "0e0c899b-d65a-44c4-dcef-846f35a72f05"
      },
      "source": [
        "plt.figure()\n",
        "plt.plot(sound.xs(), sound.values.T)\n",
        "plt.xlim([sound.xmin, sound.xmax])\n",
        "plt.xlabel(\"time [s]\")\n",
        "plt.ylabel(\"amplitude\")\n",
        "plt.title(\"Sound Wave\")\n",
        "plt.show() # or plt.savefig(\"sound.png\"), or plt.savefig(\"sound.pdf\")"
      ],
      "execution_count": null,
      "outputs": [
        {
          "output_type": "display_data",
          "data": {
            "image/png": "[encoded data removed]",
            "text/plain": [
              "<Figure size 432x288 with 1 Axes>"
            ]
          },
          "metadata": {
            "needs_background": "light"
          }
        }
      ]
    },
    {
      "cell_type": "code",
      "metadata": {
        "id": "e8774eUEdMAQ"
      },
      "source": [
        "spectrogram = sound.to_spectrogram()\n"
      ],
      "execution_count": null,
      "outputs": []
    },
    {
      "cell_type": "code",
      "metadata": {
        "id": "C_0KrmsTdaeD"
      },
      "source": [
        "def draw_spectrogram(spectrogram, dynamic_range=70):\n",
        "    X, Y = spectrogram.x_grid(), spectrogram.y_grid()\n",
        "    sg_db = 10 * np.log10(spectrogram.values)\n",
        "    plt.pcolormesh(X, Y, sg_db, vmin=sg_db.max() - dynamic_range, cmap='afmhot')\n",
        "    plt.ylim([spectrogram.ymin, spectrogram.ymax])\n",
        "    plt.xlabel(\"time [s]\")\n",
        "    plt.ylabel(\"frequency [Hz]\")\n",
        "\n",
        "def draw_intensity(intensity):\n",
        "    plt.plot(intensity.xs(), intensity.values.T, linewidth=3, color='w')\n",
        "    plt.plot(intensity.xs(), intensity.values.T, linewidth=1)\n",
        "    plt.grid(False)\n",
        "    plt.ylim(0)\n",
        "    plt.ylabel(\"intensity [dB]\")"
      ],
      "execution_count": null,
      "outputs": []
    },
    {
      "cell_type": "code",
      "metadata": {
        "colab": {
          "base_uri": "https://localhost:8080/",
          "height": 329
        },
        "id": "V5wHWaitdcts",
        "outputId": "1676cbb8-166b-4437-a07f-4c35f0befd16"
      },
      "source": [
        "intensity = sound.to_intensity()\n",
        "spectrogram = sound.to_spectrogram()\n",
        "plt.figure()\n",
        "draw_spectrogram(spectrogram)\n",
        "plt.twinx()\n",
        "draw_intensity(intensity)\n",
        "plt.xlim([sound.xmin, sound.xmax])\n",
        "plt.title(\"Spectrogram\")\n",
        "plt.show()"
      ],
      "execution_count": null,
      "outputs": [
        {
          "output_type": "stream",
          "name": "stderr",
          "text": [
            "/usr/local/lib/python3.7/dist-packages/ipykernel_launcher.py:3: RuntimeWarning: divide by zero encountered in log10\n",
            "  This is separate from the ipykernel package so we can avoid doing imports until\n"
          ]
        },
        {
          "output_type": "display_data",
          "data": {
            "image/png": "[encoded data removed]",
            "text/plain": [
              "<Figure size 432x288 with 2 Axes>"
            ]
          },
          "metadata": {
            "needs_background": "light"
          }
        }
      ]
    },
    {
      "cell_type": "code",
      "metadata": {
        "id": "ndjwYUkbcmIT",
        "colab": {
          "base_uri": "https://localhost:8080/"
        },
        "outputId": "55d194a9-4401-4290-9505-0ce2287e8baf"
      },
      "source": [
        "(meanF0, stdevF0, hnr, localJitter, localabsoluteJitter, rapJitter, ppq5Jitter, ddpJitter, localShimmer, localdbShimmer, apq3Shimmer, aqpq5Shimmer, apq11Shimmer, ddaShimmer) = measurePitch(sound, 75, 500, \"Hertz\")"
      ],
      "execution_count": null,
      "outputs": [
        {
          "output_type": "stream",
          "name": "stdout",
          "text": [
            "   From 0 to 0 seconds (duration: 34.709333 seconds)\n",
            "Pitch:\n",
            "   Median pitch: 146.356 Hz\n",
            "   Mean pitch: 145.012 Hz\n",
            "   Standard deviation: 6.892 Hz\n",
            "   Minimum pitch: 77.629 Hz\n",
            "   Maximum pitch: 161.866 Hz\n",
            "Pulses:\n",
            "   Number of pulses: 2329\n",
            "   Number of periods: 2304\n",
            "   Mean period: 6.890465E-3 seconds\n",
            "   Standard deviation of period: 0.367741E-3 seconds\n",
            "Voicing:\n",
            "   Fraction of locally unvoiced frames: 52.495%   (1820 / 3467)\n",
            "   Number of voice breaks: 21\n",
            "   Degree of voice breaks: 47.845%   (16.606657 seconds / 34.709333 seconds)\n",
            "Jitter:\n",
            "   Jitter (local): 0.474%\n",
            "   Jitter (local, absolute): 32.678E-6 seconds\n",
            "   Jitter (rap): 0.180%\n",
            "   Jitter (ppq5): 0.186%\n",
            "   Jitter (ddp): 0.541%\n",
            "Shimmer:\n",
            "   Shimmer (local): 3.773%\n",
            "   Shimmer (local, dB): 0.388 dB\n",
            "   Shimmer (apq3): 1.923%\n",
            "   Shimmer (apq5): 2.340%\n",
            "   Shimmer (apq11): 2.768%\n",
            "   Shimmer (dda): 5.769%\n",
            "Harmonicity of the voiced parts only:\n",
            "   Mean autocorrelation: 0.971510\n",
            "   Mean noise-to-harmonics ratio: 0.036866\n",
            "   Mean harmonics-to-noise ratio: 20.101 dB\n",
            "\n"
          ]
        }
      ]
    },
    {
      "cell_type": "code",
      "metadata": {
        "colab": {
          "base_uri": "https://localhost:8080/"
        },
        "id": "pXLd5Y8DzLnN",
        "outputId": "c051f653-962f-4636-d8cf-d6863b8ea7af"
      },
      "source": [
        "voice_report = getData(sound)\n",
        "print(voice_report)"
      ],
      "execution_count": null,
      "outputs": [
        {
          "output_type": "stream",
          "name": "stdout",
          "text": [
            "   From 0 to 0 seconds (duration: 34.709333 seconds)\n",
            "Pitch:\n",
            "   Median pitch: 146.356 Hz\n",
            "   Mean pitch: 145.012 Hz\n",
            "   Standard deviation: 6.892 Hz\n",
            "   Minimum pitch: 77.629 Hz\n",
            "   Maximum pitch: 161.866 Hz\n",
            "Pulses:\n",
            "   Number of pulses: 2329\n",
            "   Number of periods: 2304\n",
            "   Mean period: 6.890465E-3 seconds\n",
            "   Standard deviation of period: 0.367741E-3 seconds\n",
            "Voicing:\n",
            "   Fraction of locally unvoiced frames: 52.495%   (1820 / 3467)\n",
            "   Number of voice breaks: 21\n",
            "   Degree of voice breaks: 47.845%   (16.606657 seconds / 34.709333 seconds)\n",
            "Jitter:\n",
            "   Jitter (local): 0.474%\n",
            "   Jitter (local, absolute): 32.678E-6 seconds\n",
            "   Jitter (rap): 0.180%\n",
            "   Jitter (ppq5): 0.186%\n",
            "   Jitter (ddp): 0.541%\n",
            "Shimmer:\n",
            "   Shimmer (local): 3.773%\n",
            "   Shimmer (local, dB): 0.388 dB\n",
            "   Shimmer (apq3): 1.923%\n",
            "   Shimmer (apq5): 2.340%\n",
            "   Shimmer (apq11): 2.768%\n",
            "   Shimmer (dda): 5.769%\n",
            "Harmonicity of the voiced parts only:\n",
            "   Mean autocorrelation: 0.971510\n",
            "   Mean noise-to-harmonics ratio: 0.036866\n",
            "   Mean harmonics-to-noise ratio: 20.101 dB\n",
            "\n"
          ]
        }
      ]
    },
    {
      "cell_type": "code",
      "metadata": {
        "id": "-mt8yP5N5aVx"
      },
      "source": [
        "parameters = [\"Jitter (local): \",\"Jitter (local, absolute): \",\"Jitter (rap): \",\"Jitter (ppq5): \",\"Jitter (ddp): \",\n",
        "              \"Shimmer (local): \",\"Shimmer (local, dB): \",\"Shimmer (apq3): \",\"Shimmer (apq5): \",\"Shimmer (apq11): \",\"Shimmer (dda): \",\n",
        "              \"Mean autocorrelation: \",\"Mean noise-to-harmonics ratio: \",\"Mean harmonics-to-noise ratio: \",\n",
        "              \"Median pitch: \",\"Mean pitch: \",\"Standard deviation: \",\"Minimum pitch: \",\"Maximum pitch: \",\n",
        "              \"Number of pulses: \",\"Number of periods: \",\"Mean period: \",\"Standard deviation of period: \",\n",
        "              \"Fraction of locally unvoiced frames: \",\"Number of voice breaks: \",\"Degree of voice breaks: \"]"
      ],
      "execution_count": null,
      "outputs": []
    },
    {
      "cell_type": "code",
      "metadata": {
        "id": "slZhjqk45gXd"
      },
      "source": [
        "parameters_j_units = [\"%\\n\",\"seconds\\n\",\"%\\n\",\"%\\n\",\"%\\n\",\n",
        "                      \"%\\n\",\"dB\\n\",\"%\\n\",\"%\\n\",\"%\\n\",\"%\\n\",\n",
        "                      \"\\n\",\"\\n\",\"dB\\n\",\n",
        "                      \"Hz\\n\",\"Hz\\n\",\"Hz\\n\",\"Hz\\n\",\"Hz\\n\",\n",
        "                      \"\\n\",\"\\n\",\"seconds\\n\",\"seconds\\n\",\n",
        "                      \"%\",\"\\n\",\"%\"]"
      ],
      "execution_count": null,
      "outputs": []
    },
    {
      "cell_type": "code",
      "metadata": {
        "colab": {
          "base_uri": "https://localhost:8080/"
        },
        "id": "__xJNXyM7JRT",
        "outputId": "3325d3c3-4ffe-4ba9-e2e7-7e9de9b2d946"
      },
      "source": [
        "len(parameters_j_units)"
      ],
      "execution_count": null,
      "outputs": [
        {
          "output_type": "execute_result",
          "data": {
            "text/plain": [
              "26"
            ]
          },
          "metadata": {},
          "execution_count": 128
        }
      ]
    },
    {
      "cell_type": "code",
      "metadata": {
        "id": "ZFVyR0Bv3j0K"
      },
      "source": [
        "def getDataFromReport(voice_report_data):\n",
        "  voice_df = pd.DataFrame(columns = parameters)\n",
        "  for p_index in range(len(parameters)):\n",
        "    i = voice_report_data.index(parameters[p_index]) + len(parameters[p_index])\n",
        "    j = voice_report_data.index(parameters_j_units[p_index], i)\n",
        "    voice_data = float(voice_report_data[i:j])\n",
        "    if(\"%\" in parameters_j_units[p_index]):\n",
        "      voice_data = voice_data/100\n",
        "    voice_df.loc[1, parameters[p_index]] = voice_data\n",
        "    #print(parameters[p_index]+\"  \"+str(voice_data))\n",
        "  return voice_df"
      ],
      "execution_count": null,
      "outputs": []
    },
    {
      "cell_type": "code",
      "metadata": {
        "id": "KvtoRePM1Bjs"
      },
      "source": [
        "voice_report = getData(sound)\n",
        "i = voice_report.index(\"Fraction of locally unvoiced frames: \") + len(\"Fraction of locally unvoiced frames: \")\n",
        "j = voice_report.index(\"%\", i)"
      ],
      "execution_count": null,
      "outputs": []
    },
    {
      "cell_type": "code",
      "metadata": {
        "colab": {
          "base_uri": "https://localhost:8080/"
        },
        "id": "TOb-HI1v1sHt",
        "outputId": "364f24c9-5360-4ee4-d0cb-e1f7a941fb71"
      },
      "source": [
        "float(voice_report[i:j])"
      ],
      "execution_count": null,
      "outputs": [
        {
          "output_type": "execute_result",
          "data": {
            "text/plain": [
              "52.495"
            ]
          },
          "metadata": {},
          "execution_count": 130
        }
      ]
    },
    {
      "cell_type": "code",
      "metadata": {
        "colab": {
          "base_uri": "https://localhost:8080/",
          "height": 168
        },
        "id": "62-jR3TO1EqX",
        "outputId": "5ca093fb-cd3d-425c-d9e8-ee76a02f2a92"
      },
      "source": [
        "getDataFromReport(voice_report)\n"
      ],
      "execution_count": null,
      "outputs": [
        {
          "output_type": "execute_result",
          "data": {
            "text/html": [
              "<div>\n",
              "<style scoped>\n",
              "    .dataframe tbody tr th:only-of-type {\n",
              "        vertical-align: middle;\n",
              "    }\n",
              "\n",
              "    .dataframe tbody tr th {\n",
              "        vertical-align: top;\n",
              "    }\n",
              "\n",
              "    .dataframe thead th {\n",
              "        text-align: right;\n",
              "    }\n",
              "</style>\n",
              "<table border=\"1\" class=\"dataframe\">\n",
              "  <thead>\n",
              "    <tr style=\"text-align: right;\">\n",
              "      <th></th>\n",
              "      <th>Jitter (local):</th>\n",
              "      <th>Jitter (local, absolute):</th>\n",
              "      <th>Jitter (rap):</th>\n",
              "      <th>Jitter (ppq5):</th>\n",
              "      <th>Jitter (ddp):</th>\n",
              "      <th>Shimmer (local):</th>\n",
              "      <th>Shimmer (local, dB):</th>\n",
              "      <th>Shimmer (apq3):</th>\n",
              "      <th>Shimmer (apq5):</th>\n",
              "      <th>Shimmer (apq11):</th>\n",
              "      <th>Shimmer (dda):</th>\n",
              "      <th>Mean autocorrelation:</th>\n",
              "      <th>Mean noise-to-harmonics ratio:</th>\n",
              "      <th>Mean harmonics-to-noise ratio:</th>\n",
              "      <th>Median pitch:</th>\n",
              "      <th>Mean pitch:</th>\n",
              "      <th>Standard deviation:</th>\n",
              "      <th>Minimum pitch:</th>\n",
              "      <th>Maximum pitch:</th>\n",
              "      <th>Number of pulses:</th>\n",
              "      <th>Number of periods:</th>\n",
              "      <th>Mean period:</th>\n",
              "      <th>Standard deviation of period:</th>\n",
              "      <th>Fraction of locally unvoiced frames:</th>\n",
              "      <th>Number of voice breaks:</th>\n",
              "      <th>Degree of voice breaks:</th>\n",
              "    </tr>\n",
              "  </thead>\n",
              "  <tbody>\n",
              "    <tr>\n",
              "      <th>1</th>\n",
              "      <td>0.00474</td>\n",
              "      <td>3.2678e-05</td>\n",
              "      <td>0.0018</td>\n",
              "      <td>0.00186</td>\n",
              "      <td>0.00541</td>\n",
              "      <td>0.03773</td>\n",
              "      <td>0.388</td>\n",
              "      <td>0.01923</td>\n",
              "      <td>0.0234</td>\n",
              "      <td>0.02768</td>\n",
              "      <td>0.05769</td>\n",
              "      <td>0.97151</td>\n",
              "      <td>0.036866</td>\n",
              "      <td>20.101</td>\n",
              "      <td>146.356</td>\n",
              "      <td>145.012</td>\n",
              "      <td>6.892</td>\n",
              "      <td>77.629</td>\n",
              "      <td>161.866</td>\n",
              "      <td>2329</td>\n",
              "      <td>2304</td>\n",
              "      <td>0.00689047</td>\n",
              "      <td>0.000367741</td>\n",
              "      <td>0.52495</td>\n",
              "      <td>21</td>\n",
              "      <td>0.47845</td>\n",
              "    </tr>\n",
              "  </tbody>\n",
              "</table>\n",
              "</div>"
            ],
            "text/plain": [
              "  Jitter (local):   ... Degree of voice breaks: \n",
              "1          0.00474  ...                  0.47845\n",
              "\n",
              "[1 rows x 26 columns]"
            ]
          },
          "metadata": {},
          "execution_count": 131
        }
      ]
    },
    {
      "cell_type": "code",
      "metadata": {
        "id": "EmooGvmbRK-D"
      },
      "source": [
        "# create lists to put the results\n",
        "mean_F0_list = []\n",
        "sd_F0_list = []\n",
        "hnr_list = []\n",
        "localJitter_list = []\n",
        "localabsoluteJitter_list = []\n",
        "rapJitter_list = []\n",
        "ppq5Jitter_list = []\n",
        "ddpJitter_list = []\n",
        "localShimmer_list = []\n",
        "localdbShimmer_list = []\n",
        "apq3Shimmer_list = []\n",
        "aqpq5Shimmer_list = []\n",
        "apq11Shimmer_list = []\n",
        "ddaShimmer_list = []"
      ],
      "execution_count": null,
      "outputs": []
    },
    {
      "cell_type": "code",
      "metadata": {
        "id": "NWWfNiZnRH6X"
      },
      "source": [
        "mean_F0_list.append(meanF0) # make a mean F0 list\n",
        "sd_F0_list.append(stdevF0) # make a sd F0 list\n",
        "hnr_list.append(hnr)\n",
        "localJitter_list.append(localJitter)\n",
        "localabsoluteJitter_list.append(localabsoluteJitter)\n",
        "rapJitter_list.append(rapJitter)\n",
        "ppq5Jitter_list.append(ppq5Jitter)\n",
        "ddpJitter_list.append(ddpJitter)\n",
        "localShimmer_list.append(localShimmer)\n",
        "localdbShimmer_list.append(localdbShimmer)\n",
        "apq3Shimmer_list.append(apq3Shimmer)\n",
        "aqpq5Shimmer_list.append(aqpq5Shimmer)\n",
        "apq11Shimmer_list.append(apq11Shimmer)\n",
        "ddaShimmer_list.append(ddaShimmer)"
      ],
      "execution_count": null,
      "outputs": []
    },
    {
      "cell_type": "code",
      "metadata": {
        "id": "nXjjCvlEOjb4"
      },
      "source": [
        "#df = pd.DataFrame(np.column_stack([mean_F0_list, sd_F0_list, hnr_list, localJitter_list, localabsoluteJitter_list, rapJitter_list, ppq5Jitter_list, ddpJitter_list, localShimmer_list, localdbShimmer_list, apq3Shimmer_list, aqpq5Shimmer_list, apq11Shimmer_list, ddaShimmer_list]),\n",
        "#                              columns=['meanF0Hz', 'stdevF0Hz', 'HNR', 'localJitter', 'localabsoluteJitter', 'rapJitter', \n",
        "#                                      'ppq5Jitter', 'ddpJitter', 'localShimmer', 'localdbShimmer', 'apq3Shimmer', 'apq5Shimmer', \n",
        "#                                        'apq11Shimmer', 'ddaShimmer'])  #add these lists to pandas in the right order\n",
        "df = pd.DataFrame(np.column_stack([localJitter_list, localabsoluteJitter_list, rapJitter_list, ppq5Jitter_list, ddpJitter_list, localShimmer_list, localdbShimmer_list, apq3Shimmer_list, aqpq5Shimmer_list, apq11Shimmer_list, ddaShimmer_list, mean_F0_list, sd_F0_list]),\n",
        "                  columns=['jitter_local','jitter_local_absolute','jitter_rap','jitter_ppq5','jitter_ddp','shimmer_local','shimer_local_db','shimmer_apq3','shimmer_apq5','shimmer_apq11','shimer_dda','median_pitch','standard_deviation'])\n"
      ],
      "execution_count": null,
      "outputs": []
    },
    {
      "cell_type": "code",
      "metadata": {
        "colab": {
          "base_uri": "https://localhost:8080/",
          "height": 100
        },
        "id": "Z1V-dHfaQXfP",
        "outputId": "088b7922-d3c2-481b-8901-2b93b9c64842"
      },
      "source": [
        "df"
      ],
      "execution_count": null,
      "outputs": [
        {
          "output_type": "execute_result",
          "data": {
            "text/html": [
              "<div>\n",
              "<style scoped>\n",
              "    .dataframe tbody tr th:only-of-type {\n",
              "        vertical-align: middle;\n",
              "    }\n",
              "\n",
              "    .dataframe tbody tr th {\n",
              "        vertical-align: top;\n",
              "    }\n",
              "\n",
              "    .dataframe thead th {\n",
              "        text-align: right;\n",
              "    }\n",
              "</style>\n",
              "<table border=\"1\" class=\"dataframe\">\n",
              "  <thead>\n",
              "    <tr style=\"text-align: right;\">\n",
              "      <th></th>\n",
              "      <th>jitter_local</th>\n",
              "      <th>jitter_local_absolute</th>\n",
              "      <th>jitter_rap</th>\n",
              "      <th>jitter_ppq5</th>\n",
              "      <th>jitter_ddp</th>\n",
              "      <th>shimmer_local</th>\n",
              "      <th>shimer_local_db</th>\n",
              "      <th>shimmer_apq3</th>\n",
              "      <th>shimmer_apq5</th>\n",
              "      <th>shimmer_apq11</th>\n",
              "      <th>shimer_dda</th>\n",
              "      <th>median_pitch</th>\n",
              "      <th>standard_deviation</th>\n",
              "    </tr>\n",
              "  </thead>\n",
              "  <tbody>\n",
              "    <tr>\n",
              "      <th>0</th>\n",
              "      <td>0.007076</td>\n",
              "      <td>0.00007</td>\n",
              "      <td>0.003893</td>\n",
              "      <td>0.003839</td>\n",
              "      <td>0.011679</td>\n",
              "      <td>0.060883</td>\n",
              "      <td>0.571816</td>\n",
              "      <td>0.035282</td>\n",
              "      <td>0.03412</td>\n",
              "      <td>0.044636</td>\n",
              "      <td>0.105847</td>\n",
              "      <td>100.701584</td>\n",
              "      <td>16.399193</td>\n",
              "    </tr>\n",
              "  </tbody>\n",
              "</table>\n",
              "</div>"
            ],
            "text/plain": [
              "   jitter_local  jitter_local_absolute  ...  median_pitch  standard_deviation\n",
              "0      0.007076                0.00007  ...    100.701584           16.399193\n",
              "\n",
              "[1 rows x 13 columns]"
            ]
          },
          "metadata": {},
          "execution_count": 85
        }
      ]
    },
    {
      "cell_type": "code",
      "metadata": {
        "id": "KfHyOQiR_-Jk"
      },
      "source": [
        "df_voice_report = getDataFromReport(voice_report)\n"
      ],
      "execution_count": null,
      "outputs": []
    },
    {
      "cell_type": "code",
      "metadata": {
        "colab": {
          "base_uri": "https://localhost:8080/",
          "height": 168
        },
        "id": "hNqLsH9SACKC",
        "outputId": "b3619bda-93b1-4b0a-be83-8b18fdce9e63"
      },
      "source": [
        "df_voice_report"
      ],
      "execution_count": null,
      "outputs": [
        {
          "output_type": "execute_result",
          "data": {
            "text/html": [
              "<div>\n",
              "<style scoped>\n",
              "    .dataframe tbody tr th:only-of-type {\n",
              "        vertical-align: middle;\n",
              "    }\n",
              "\n",
              "    .dataframe tbody tr th {\n",
              "        vertical-align: top;\n",
              "    }\n",
              "\n",
              "    .dataframe thead th {\n",
              "        text-align: right;\n",
              "    }\n",
              "</style>\n",
              "<table border=\"1\" class=\"dataframe\">\n",
              "  <thead>\n",
              "    <tr style=\"text-align: right;\">\n",
              "      <th></th>\n",
              "      <th>Jitter (local):</th>\n",
              "      <th>Jitter (local, absolute):</th>\n",
              "      <th>Jitter (rap):</th>\n",
              "      <th>Jitter (ppq5):</th>\n",
              "      <th>Jitter (ddp):</th>\n",
              "      <th>Shimmer (local):</th>\n",
              "      <th>Shimmer (local, dB):</th>\n",
              "      <th>Shimmer (apq3):</th>\n",
              "      <th>Shimmer (apq5):</th>\n",
              "      <th>Shimmer (apq11):</th>\n",
              "      <th>Shimmer (dda):</th>\n",
              "      <th>Mean autocorrelation:</th>\n",
              "      <th>Mean noise-to-harmonics ratio:</th>\n",
              "      <th>Mean harmonics-to-noise ratio:</th>\n",
              "      <th>Median pitch:</th>\n",
              "      <th>Mean pitch:</th>\n",
              "      <th>Standard deviation:</th>\n",
              "      <th>Minimum pitch:</th>\n",
              "      <th>Maximum pitch:</th>\n",
              "      <th>Number of pulses:</th>\n",
              "      <th>Number of periods:</th>\n",
              "      <th>Mean period:</th>\n",
              "      <th>Standard deviation of period:</th>\n",
              "      <th>Fraction of locally unvoiced frames:</th>\n",
              "      <th>Number of voice breaks:</th>\n",
              "      <th>Degree of voice breaks:</th>\n",
              "    </tr>\n",
              "  </thead>\n",
              "  <tbody>\n",
              "    <tr>\n",
              "      <th>1</th>\n",
              "      <td>0.00474</td>\n",
              "      <td>3.2678e-05</td>\n",
              "      <td>0.0018</td>\n",
              "      <td>0.00186</td>\n",
              "      <td>0.00541</td>\n",
              "      <td>0.03773</td>\n",
              "      <td>0.388</td>\n",
              "      <td>0.01923</td>\n",
              "      <td>0.0234</td>\n",
              "      <td>0.02768</td>\n",
              "      <td>0.05769</td>\n",
              "      <td>0.97151</td>\n",
              "      <td>0.036866</td>\n",
              "      <td>20.101</td>\n",
              "      <td>146.356</td>\n",
              "      <td>145.012</td>\n",
              "      <td>6.892</td>\n",
              "      <td>77.629</td>\n",
              "      <td>161.866</td>\n",
              "      <td>2329</td>\n",
              "      <td>2304</td>\n",
              "      <td>0.00689047</td>\n",
              "      <td>0.000367741</td>\n",
              "      <td>0.52495</td>\n",
              "      <td>21</td>\n",
              "      <td>0.47845</td>\n",
              "    </tr>\n",
              "  </tbody>\n",
              "</table>\n",
              "</div>"
            ],
            "text/plain": [
              "  Jitter (local):   ... Degree of voice breaks: \n",
              "1          0.00474  ...                  0.47845\n",
              "\n",
              "[1 rows x 26 columns]"
            ]
          },
          "metadata": {},
          "execution_count": 133
        }
      ]
    },
    {
      "cell_type": "code",
      "metadata": {
        "id": "WczaS5_r1Bn4"
      },
      "source": [
        "from google.colab import files\n"
      ],
      "execution_count": null,
      "outputs": []
    },
    {
      "cell_type": "code",
      "metadata": {
        "id": "xw7oiVYez8z1"
      },
      "source": [
        "#save dataframe csv\n",
        "df_voice_report.to_csv('audio_new_fer_test.csv',index=False)"
      ],
      "execution_count": null,
      "outputs": []
    },
    {
      "cell_type": "code",
      "metadata": {
        "colab": {
          "base_uri": "https://localhost:8080/",
          "height": 17
        },
        "id": "or6RNoLD1LKF",
        "outputId": "edf2af25-6163-4018-ff6d-d39f5796f3d0"
      },
      "source": [
        "files.download('audio_new_fer_test.csv')"
      ],
      "execution_count": null,
      "outputs": [
        {
          "output_type": "display_data",
          "data": {
            "application/javascript": [
              "\n",
              "    async function download(id, filename, size) {\n",
              "      if (!google.colab.kernel.accessAllowed) {\n",
              "        return;\n",
              "      }\n",
              "      const div = document.createElement('div');\n",
              "      const label = document.createElement('label');\n",
              "      label.textContent = `Downloading \"${filename}\": `;\n",
              "      div.appendChild(label);\n",
              "      const progress = document.createElement('progress');\n",
              "      progress.max = size;\n",
              "      div.appendChild(progress);\n",
              "      document.body.appendChild(div);\n",
              "\n",
              "      const buffers = [];\n",
              "      let downloaded = 0;\n",
              "\n",
              "      const channel = await google.colab.kernel.comms.open(id);\n",
              "      // Send a message to notify the kernel that we're ready.\n",
              "      channel.send({})\n",
              "\n",
              "      for await (const message of channel.messages) {\n",
              "        // Send a message to notify the kernel that we're ready.\n",
              "        channel.send({})\n",
              "        if (message.buffers) {\n",
              "          for (const buffer of message.buffers) {\n",
              "            buffers.push(buffer);\n",
              "            downloaded += buffer.byteLength;\n",
              "            progress.value = downloaded;\n",
              "          }\n",
              "        }\n",
              "      }\n",
              "      const blob = new Blob(buffers, {type: 'application/binary'});\n",
              "      const a = document.createElement('a');\n",
              "      a.href = window.URL.createObjectURL(blob);\n",
              "      a.download = filename;\n",
              "      div.appendChild(a);\n",
              "      a.click();\n",
              "      div.remove();\n",
              "    }\n",
              "  "
            ],
            "text/plain": [
              "<IPython.core.display.Javascript object>"
            ]
          },
          "metadata": {}
        },
        {
          "output_type": "display_data",
          "data": {
            "application/javascript": [
              "download(\"download_5cc14b34-dd3d-48d2-af7e-303f718db6d2\", \"audio_new_fer_test.csv\", 816)"
            ],
            "text/plain": [
              "<IPython.core.display.Javascript object>"
            ]
          },
          "metadata": {}
        }
      ]
    }
  ]
}